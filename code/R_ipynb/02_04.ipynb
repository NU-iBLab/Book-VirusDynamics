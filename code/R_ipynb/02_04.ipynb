{
 "cells": [
  {
   "cell_type": "markdown",
   "id": "4f80430b-9e7e-4a97-aeda-ee0a90901c34",
   "metadata": {},
   "source": [
    "# コード2-4：非線形常微分方程式の数値計算の実装\n",
    "\n",
    "『ウイルス感染の数理モデルとシミュレーション ーデータを定量的に理解するー』\n",
    "\n",
    "非線形常微分方程式を数値計算する例をまとめる。"
   ]
  },
  {
   "cell_type": "code",
   "execution_count": null,
   "id": "3ea7bdf5-5480-40c6-b66a-ce0357ad4133",
   "metadata": {},
   "outputs": [],
   "source": []
  }
 ],
 "metadata": {
  "kernelspec": {
   "display_name": "R",
   "language": "R",
   "name": "ir"
  },
  "language_info": {
   "codemirror_mode": "r",
   "file_extension": ".r",
   "mimetype": "text/x-r-source",
   "name": "R",
   "pygments_lexer": "r",
   "version": "4.3.1"
  }
 },
 "nbformat": 4,
 "nbformat_minor": 5
}
