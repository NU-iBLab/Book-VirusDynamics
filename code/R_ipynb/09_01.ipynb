{
 "cells": [
  {
   "cell_type": "markdown",
   "id": "4f80430b-9e7e-4a97-aeda-ee0a90901c34",
   "metadata": {},
   "source": [
    "# コード9-1：ランダムフォレストの実装\n",
    "\n",
    "『ウイルス感染の数理モデルとシミュレーション ーデータを定量的に理解するー』\n",
    "\n",
    "ランダムフォレストの実装の例をまとめる。"
   ]
  },
  {
   "cell_type": "markdown",
   "id": "d1d355fd-c522-4f12-836d-4ca5522f39e5",
   "metadata": {},
   "source": [
    "- randomForest rdocumentation  \n",
    "https://www.rdocumentation.org/packages/randomForest/versions/4.7-1.1/topics/randomForest\n",
    "- pROC rdocumentation  \n",
    "https://www.rdocumentation.org/packages/pROC/versions/1.18.5"
   ]
  },
  {
   "cell_type": "code",
   "execution_count": 15,
   "id": "3ea7bdf5-5480-40c6-b66a-ce0357ad4133",
   "metadata": {},
   "outputs": [],
   "source": [
    "# install.packages(c(\"randomForest\", \"pROC\", \"dplyr\"))"
   ]
  },
  {
   "cell_type": "code",
   "execution_count": 2,
   "id": "2ad3b1f3-78af-4062-b997-2dfc447865ca",
   "metadata": {},
   "outputs": [
    {
     "name": "stderr",
     "output_type": "stream",
     "text": [
      "randomForest 4.7-1.1\n",
      "\n",
      "Type rfNews() to see new features/changes/bug fixes.\n",
      "\n",
      "Type 'citation(\"pROC\")' for a citation.\n",
      "\n",
      "\n",
      "Attaching package: ‘pROC’\n",
      "\n",
      "\n",
      "The following objects are masked from ‘package:stats’:\n",
      "\n",
      "    cov, smooth, var\n",
      "\n",
      "\n",
      "\n",
      "Attaching package: ‘dplyr’\n",
      "\n",
      "\n",
      "The following object is masked from ‘package:randomForest’:\n",
      "\n",
      "    combine\n",
      "\n",
      "\n",
      "The following objects are masked from ‘package:stats’:\n",
      "\n",
      "    filter, lag\n",
      "\n",
      "\n",
      "The following objects are masked from ‘package:base’:\n",
      "\n",
      "    intersect, setdiff, setequal, union\n",
      "\n",
      "\n"
     ]
    }
   ],
   "source": [
    "library(randomForest)\n",
    "library(pROC)\n",
    "library(dplyr)"
   ]
  },
  {
   "cell_type": "markdown",
   "id": "3caf136f-57db-4a00-921e-e6a16e2b77c7",
   "metadata": {},
   "source": [
    "## データ\n",
    "\n",
    "感染症に関する臨床データは、一般に完全な形で公開されることが少ないので、生成した仮想のデータセットを使用します。"
   ]
  },
  {
   "cell_type": "code",
   "execution_count": 3,
   "id": "6db7f1e2-fc40-41cd-bfaa-6f00c3c258ed",
   "metadata": {},
   "outputs": [
    {
     "data": {
      "text/html": [
       "<table class=\"dataframe\">\n",
       "<caption>A data.frame: 6 × 112</caption>\n",
       "<thead>\n",
       "\t<tr><th></th><th scope=col>id</th><th scope=col>severity</th><th scope=col>item_1</th><th scope=col>item_2</th><th scope=col>item_3</th><th scope=col>item_4</th><th scope=col>item_5</th><th scope=col>item_6</th><th scope=col>item_7</th><th scope=col>item_8</th><th scope=col>⋯</th><th scope=col>item_101</th><th scope=col>item_102</th><th scope=col>item_103</th><th scope=col>item_104</th><th scope=col>item_105</th><th scope=col>item_106</th><th scope=col>item_107</th><th scope=col>item_108</th><th scope=col>item_109</th><th scope=col>item_110</th></tr>\n",
       "\t<tr><th></th><th scope=col>&lt;int&gt;</th><th scope=col>&lt;chr&gt;</th><th scope=col>&lt;dbl&gt;</th><th scope=col>&lt;dbl&gt;</th><th scope=col>&lt;dbl&gt;</th><th scope=col>&lt;dbl&gt;</th><th scope=col>&lt;dbl&gt;</th><th scope=col>&lt;dbl&gt;</th><th scope=col>&lt;dbl&gt;</th><th scope=col>&lt;dbl&gt;</th><th scope=col>⋯</th><th scope=col>&lt;dbl&gt;</th><th scope=col>&lt;dbl&gt;</th><th scope=col>&lt;dbl&gt;</th><th scope=col>&lt;dbl&gt;</th><th scope=col>&lt;dbl&gt;</th><th scope=col>&lt;dbl&gt;</th><th scope=col>&lt;dbl&gt;</th><th scope=col>&lt;dbl&gt;</th><th scope=col>&lt;dbl&gt;</th><th scope=col>&lt;dbl&gt;</th></tr>\n",
       "</thead>\n",
       "<tbody>\n",
       "\t<tr><th scope=row>1</th><td>1</td><td>Severe</td><td>0.1529537</td><td>0.9268564</td><td>0.2158215</td><td>0.2700058</td><td>0.7643882</td><td>3.2510863</td><td>0.4256630</td><td>1.0713519</td><td>⋯</td><td>16470.2895</td><td>  9.039882</td><td> 594.1458</td><td> 90.57741</td><td>20.165713</td><td>1350.84313</td><td>22127.840</td><td> 1.2738598</td><td>2497.66738</td><td> 270.3420</td></tr>\n",
       "\t<tr><th scope=row>2</th><td>2</td><td>Severe</td><td>1.1187048</td><td>0.6952589</td><td>1.7719741</td><td>1.1213724</td><td>0.8634947</td><td>0.8192973</td><td>0.3132959</td><td>1.1956616</td><td>⋯</td><td>18410.4096</td><td> 19.023656</td><td> 356.3089</td><td>164.91013</td><td> 4.322147</td><td> 835.02067</td><td> 6997.351</td><td> 0.9277962</td><td> 388.21087</td><td> 556.7280</td></tr>\n",
       "\t<tr><th scope=row>3</th><td>3</td><td>Severe</td><td>1.2797504</td><td>0.1945758</td><td>2.2624940</td><td>1.1981781</td><td>2.0228450</td><td>0.1841301</td><td>0.5137874</td><td>1.1177742</td><td>⋯</td><td>  709.1681</td><td>258.795650</td><td>1020.1495</td><td> 19.79672</td><td>82.771129</td><td>  53.90894</td><td>10166.751</td><td> 1.6206560</td><td> 262.76693</td><td>1510.2849</td></tr>\n",
       "\t<tr><th scope=row>4</th><td>4</td><td>Severe</td><td>0.5092195</td><td>1.4808641</td><td>0.1682183</td><td>1.0000307</td><td>1.3890897</td><td>1.2496303</td><td>0.7876928</td><td>0.7833376</td><td>⋯</td><td>15767.0063</td><td>  4.486367</td><td>1118.2207</td><td> 40.56327</td><td>70.910292</td><td> 173.75697</td><td> 1935.488</td><td>16.3827302</td><td>  68.29856</td><td> 360.6223</td></tr>\n",
       "\t<tr><th scope=row>5</th><td>5</td><td>Severe</td><td>0.7168618</td><td>0.1564217</td><td>3.6627513</td><td>3.5706942</td><td>9.7690373</td><td>3.4290642</td><td>1.7683730</td><td>0.2624204</td><td>⋯</td><td>60601.0014</td><td> 13.431952</td><td>3151.0889</td><td>  1.68593</td><td>15.361806</td><td> 392.61304</td><td> 2313.305</td><td> 0.7270797</td><td> 287.98559</td><td> 659.8424</td></tr>\n",
       "\t<tr><th scope=row>6</th><td>6</td><td>Severe</td><td>3.1009301</td><td>0.7509750</td><td>1.5979396</td><td>1.2340669</td><td>0.4786526</td><td>1.3332308</td><td>1.0916687</td><td>0.5146522</td><td>⋯</td><td> 9249.6034</td><td>310.108026</td><td>1123.1782</td><td> 57.85024</td><td>34.748306</td><td> 142.34622</td><td>27949.435</td><td> 9.5557454</td><td> 858.08688</td><td> 394.7040</td></tr>\n",
       "</tbody>\n",
       "</table>\n"
      ],
      "text/latex": [
       "A data.frame: 6 × 112\n",
       "\\begin{tabular}{r|lllllllllllllllllllll}\n",
       "  & id & severity & item\\_1 & item\\_2 & item\\_3 & item\\_4 & item\\_5 & item\\_6 & item\\_7 & item\\_8 & ⋯ & item\\_101 & item\\_102 & item\\_103 & item\\_104 & item\\_105 & item\\_106 & item\\_107 & item\\_108 & item\\_109 & item\\_110\\\\\n",
       "  & <int> & <chr> & <dbl> & <dbl> & <dbl> & <dbl> & <dbl> & <dbl> & <dbl> & <dbl> & ⋯ & <dbl> & <dbl> & <dbl> & <dbl> & <dbl> & <dbl> & <dbl> & <dbl> & <dbl> & <dbl>\\\\\n",
       "\\hline\n",
       "\t1 & 1 & Severe & 0.1529537 & 0.9268564 & 0.2158215 & 0.2700058 & 0.7643882 & 3.2510863 & 0.4256630 & 1.0713519 & ⋯ & 16470.2895 &   9.039882 &  594.1458 &  90.57741 & 20.165713 & 1350.84313 & 22127.840 &  1.2738598 & 2497.66738 &  270.3420\\\\\n",
       "\t2 & 2 & Severe & 1.1187048 & 0.6952589 & 1.7719741 & 1.1213724 & 0.8634947 & 0.8192973 & 0.3132959 & 1.1956616 & ⋯ & 18410.4096 &  19.023656 &  356.3089 & 164.91013 &  4.322147 &  835.02067 &  6997.351 &  0.9277962 &  388.21087 &  556.7280\\\\\n",
       "\t3 & 3 & Severe & 1.2797504 & 0.1945758 & 2.2624940 & 1.1981781 & 2.0228450 & 0.1841301 & 0.5137874 & 1.1177742 & ⋯ &   709.1681 & 258.795650 & 1020.1495 &  19.79672 & 82.771129 &   53.90894 & 10166.751 &  1.6206560 &  262.76693 & 1510.2849\\\\\n",
       "\t4 & 4 & Severe & 0.5092195 & 1.4808641 & 0.1682183 & 1.0000307 & 1.3890897 & 1.2496303 & 0.7876928 & 0.7833376 & ⋯ & 15767.0063 &   4.486367 & 1118.2207 &  40.56327 & 70.910292 &  173.75697 &  1935.488 & 16.3827302 &   68.29856 &  360.6223\\\\\n",
       "\t5 & 5 & Severe & 0.7168618 & 0.1564217 & 3.6627513 & 3.5706942 & 9.7690373 & 3.4290642 & 1.7683730 & 0.2624204 & ⋯ & 60601.0014 &  13.431952 & 3151.0889 &   1.68593 & 15.361806 &  392.61304 &  2313.305 &  0.7270797 &  287.98559 &  659.8424\\\\\n",
       "\t6 & 6 & Severe & 3.1009301 & 0.7509750 & 1.5979396 & 1.2340669 & 0.4786526 & 1.3332308 & 1.0916687 & 0.5146522 & ⋯ &  9249.6034 & 310.108026 & 1123.1782 &  57.85024 & 34.748306 &  142.34622 & 27949.435 &  9.5557454 &  858.08688 &  394.7040\\\\\n",
       "\\end{tabular}\n"
      ],
      "text/markdown": [
       "\n",
       "A data.frame: 6 × 112\n",
       "\n",
       "| <!--/--> | id &lt;int&gt; | severity &lt;chr&gt; | item_1 &lt;dbl&gt; | item_2 &lt;dbl&gt; | item_3 &lt;dbl&gt; | item_4 &lt;dbl&gt; | item_5 &lt;dbl&gt; | item_6 &lt;dbl&gt; | item_7 &lt;dbl&gt; | item_8 &lt;dbl&gt; | ⋯ ⋯ | item_101 &lt;dbl&gt; | item_102 &lt;dbl&gt; | item_103 &lt;dbl&gt; | item_104 &lt;dbl&gt; | item_105 &lt;dbl&gt; | item_106 &lt;dbl&gt; | item_107 &lt;dbl&gt; | item_108 &lt;dbl&gt; | item_109 &lt;dbl&gt; | item_110 &lt;dbl&gt; |\n",
       "|---|---|---|---|---|---|---|---|---|---|---|---|---|---|---|---|---|---|---|---|---|---|\n",
       "| 1 | 1 | Severe | 0.1529537 | 0.9268564 | 0.2158215 | 0.2700058 | 0.7643882 | 3.2510863 | 0.4256630 | 1.0713519 | ⋯ | 16470.2895 |   9.039882 |  594.1458 |  90.57741 | 20.165713 | 1350.84313 | 22127.840 |  1.2738598 | 2497.66738 |  270.3420 |\n",
       "| 2 | 2 | Severe | 1.1187048 | 0.6952589 | 1.7719741 | 1.1213724 | 0.8634947 | 0.8192973 | 0.3132959 | 1.1956616 | ⋯ | 18410.4096 |  19.023656 |  356.3089 | 164.91013 |  4.322147 |  835.02067 |  6997.351 |  0.9277962 |  388.21087 |  556.7280 |\n",
       "| 3 | 3 | Severe | 1.2797504 | 0.1945758 | 2.2624940 | 1.1981781 | 2.0228450 | 0.1841301 | 0.5137874 | 1.1177742 | ⋯ |   709.1681 | 258.795650 | 1020.1495 |  19.79672 | 82.771129 |   53.90894 | 10166.751 |  1.6206560 |  262.76693 | 1510.2849 |\n",
       "| 4 | 4 | Severe | 0.5092195 | 1.4808641 | 0.1682183 | 1.0000307 | 1.3890897 | 1.2496303 | 0.7876928 | 0.7833376 | ⋯ | 15767.0063 |   4.486367 | 1118.2207 |  40.56327 | 70.910292 |  173.75697 |  1935.488 | 16.3827302 |   68.29856 |  360.6223 |\n",
       "| 5 | 5 | Severe | 0.7168618 | 0.1564217 | 3.6627513 | 3.5706942 | 9.7690373 | 3.4290642 | 1.7683730 | 0.2624204 | ⋯ | 60601.0014 |  13.431952 | 3151.0889 |   1.68593 | 15.361806 |  392.61304 |  2313.305 |  0.7270797 |  287.98559 |  659.8424 |\n",
       "| 6 | 6 | Severe | 3.1009301 | 0.7509750 | 1.5979396 | 1.2340669 | 0.4786526 | 1.3332308 | 1.0916687 | 0.5146522 | ⋯ |  9249.6034 | 310.108026 | 1123.1782 |  57.85024 | 34.748306 |  142.34622 | 27949.435 |  9.5557454 |  858.08688 |  394.7040 |\n",
       "\n"
      ],
      "text/plain": [
       "  id severity item_1    item_2    item_3    item_4    item_5    item_6   \n",
       "1 1  Severe   0.1529537 0.9268564 0.2158215 0.2700058 0.7643882 3.2510863\n",
       "2 2  Severe   1.1187048 0.6952589 1.7719741 1.1213724 0.8634947 0.8192973\n",
       "3 3  Severe   1.2797504 0.1945758 2.2624940 1.1981781 2.0228450 0.1841301\n",
       "4 4  Severe   0.5092195 1.4808641 0.1682183 1.0000307 1.3890897 1.2496303\n",
       "5 5  Severe   0.7168618 0.1564217 3.6627513 3.5706942 9.7690373 3.4290642\n",
       "6 6  Severe   3.1009301 0.7509750 1.5979396 1.2340669 0.4786526 1.3332308\n",
       "  item_7    item_8    ⋯ item_101   item_102   item_103  item_104  item_105 \n",
       "1 0.4256630 1.0713519 ⋯ 16470.2895   9.039882  594.1458  90.57741 20.165713\n",
       "2 0.3132959 1.1956616 ⋯ 18410.4096  19.023656  356.3089 164.91013  4.322147\n",
       "3 0.5137874 1.1177742 ⋯   709.1681 258.795650 1020.1495  19.79672 82.771129\n",
       "4 0.7876928 0.7833376 ⋯ 15767.0063   4.486367 1118.2207  40.56327 70.910292\n",
       "5 1.7683730 0.2624204 ⋯ 60601.0014  13.431952 3151.0889   1.68593 15.361806\n",
       "6 1.0916687 0.5146522 ⋯  9249.6034 310.108026 1123.1782  57.85024 34.748306\n",
       "  item_106   item_107  item_108   item_109   item_110 \n",
       "1 1350.84313 22127.840  1.2738598 2497.66738  270.3420\n",
       "2  835.02067  6997.351  0.9277962  388.21087  556.7280\n",
       "3   53.90894 10166.751  1.6206560  262.76693 1510.2849\n",
       "4  173.75697  1935.488 16.3827302   68.29856  360.6223\n",
       "5  392.61304  2313.305  0.7270797  287.98559  659.8424\n",
       "6  142.34622 27949.435  9.5557454  858.08688  394.7040"
      ]
     },
     "metadata": {},
     "output_type": "display_data"
    }
   ],
   "source": [
    "data_sample <- read.csv(\"../../data/09_01/data_09_01.csv\")\n",
    "head(data_sample)"
   ]
  },
  {
   "cell_type": "markdown",
   "id": "3d10bb02-b5ec-4e03-ae3a-41728592cdb8",
   "metadata": {},
   "source": [
    "`item_101`〜`item_110`は`Severe`と`Mild`で異なるようにしているので、これらを使う場合と使わない場合で行います。"
   ]
  },
  {
   "cell_type": "code",
   "execution_count": 4,
   "id": "58cdeeec-0cc8-4b73-966e-c091632e7e25",
   "metadata": {},
   "outputs": [
    {
     "name": "stdout",
     "output_type": "stream",
     "text": [
      "[1] \"train data\"\n",
      "[1] 800 112\n",
      "     id severity    item_1    item_2    item_3    item_4\n",
      "202 202   Severe 1.2604210 1.2148805 0.2483481 0.3970651\n",
      "358 358   Severe 4.8168657 5.0320053 3.8548352 1.1054881\n",
      "112 112   Severe 0.8458864 2.0218116 0.2255148 1.2486708\n",
      "473 473   Severe 0.4942741 1.1502509 0.5566262 0.9534933\n",
      "206 206   Severe 0.1395678 1.1585343 2.0069394 1.4148489\n",
      "492 492   Severe 0.4062299 0.3513698 0.5356444 2.0120865\n",
      "[1] \"test data\"\n",
      "[1] 200 112\n",
      "   id severity      item_1    item_2    item_3     item_4\n",
      "5   5   Severe  0.71686179 0.1564217 3.6627513  3.5706942\n",
      "8   8   Severe  0.06396508 1.5810730 1.9200410  0.6055357\n",
      "10 10   Severe 10.56831235 1.0654013 0.9604963  0.8460543\n",
      "18 18   Severe  0.45921024 3.0092121 9.0032499  0.3813848\n",
      "24 24   Severe  0.43085938 0.2197772 2.5661802  1.3106756\n",
      "29 29   Severe  1.09038377 0.5405473 0.9487138 10.5544279\n",
      "[1] \"id重複確認\"\n",
      "[1] FALSE\n"
     ]
    }
   ],
   "source": [
    "## 全データ\n",
    "set.seed(100)\n",
    "data_train <- data_sample[c(sample(which(data_sample$severity == \"Severe\"), 400, replace = F),\n",
    "                            sample(which(data_sample$severity == \"Mild\"), 400, replace = F)), ]\n",
    "data_test <- subset(data_sample, !(id %in% data_train$id))\n",
    "\n",
    "print(\"train data\")\n",
    "print(dim(data_train))\n",
    "print(head(data_train[, 1:6]))\n",
    "print(\"test data\")\n",
    "print(dim(data_test))\n",
    "print(head(data_test[, 1:6]))\n",
    "print(\"id重複確認\")\n",
    "print(length(which(data_train$id %in% data_test$id)) > 0)\n",
    "\n",
    "## severityに関連する項目を除外\n",
    "data_train_random <- data_train[, -(103:112)]\n",
    "data_test_random <- data_test[, -(103:112)]"
   ]
  },
  {
   "cell_type": "markdown",
   "id": "08d32f3b-9a46-4338-9f03-1c5d7c9b5957",
   "metadata": {},
   "source": [
    "## 分類問題"
   ]
  },
  {
   "cell_type": "code",
   "execution_count": 5,
   "id": "400e828b-5fae-4677-9f66-012462a86ba2",
   "metadata": {},
   "outputs": [
    {
     "name": "stdout",
     "output_type": "stream",
     "text": [
      "\n",
      "Call:\n",
      " randomForest(formula = factor(severity) ~ ., data = data_train[,      -1], importance = TRUE, proximity = TRUE) \n",
      "               Type of random forest: classification\n",
      "                     Number of trees: 500\n",
      "No. of variables tried at each split: 10\n",
      "\n",
      "        OOB estimate of  error rate: 0%\n",
      "Confusion matrix:\n",
      "       Mild Severe class.error\n",
      "Mild    400      0           0\n",
      "Severe    0    400           0\n",
      "\n",
      "Call:\n",
      " randomForest(formula = factor(severity) ~ ., data = data_train_random[,      -1], importance = TRUE, proximity = TRUE) \n",
      "               Type of random forest: classification\n",
      "                     Number of trees: 500\n",
      "No. of variables tried at each split: 10\n",
      "\n",
      "        OOB estimate of  error rate: 49.62%\n",
      "Confusion matrix:\n",
      "       Mild Severe class.error\n",
      "Mild    202    198      0.4950\n",
      "Severe  199    201      0.4975\n"
     ]
    }
   ],
   "source": [
    "model_rf <- randomForest(formula = factor(severity) ~ ., data = data_train[, -1], importance = TRUE, proximity = TRUE)\n",
    "print(model_rf)\n",
    "\n",
    "model_rf_random <- randomForest(formula = factor(severity) ~ ., data = data_train_random[, -1], importance = TRUE, proximity = TRUE)\n",
    "print(model_rf_random)"
   ]
  },
  {
   "cell_type": "markdown",
   "id": "ae01b92c-486e-4472-bef1-b5b79f438bdf",
   "metadata": {},
   "source": [
    "## ランダムフォレストの変数重要度"
   ]
  },
  {
   "cell_type": "code",
   "execution_count": 6,
   "id": "606f0052-c599-4710-ac59-a7373a7da31a",
   "metadata": {},
   "outputs": [
    {
     "data": {
      "text/html": [
       "<table class=\"dataframe\">\n",
       "<caption>A matrix: 6 × 4 of type dbl</caption>\n",
       "<thead>\n",
       "\t<tr><th></th><th scope=col>Mild</th><th scope=col>Severe</th><th scope=col>MeanDecreaseAccuracy</th><th scope=col>MeanDecreaseGini</th></tr>\n",
       "</thead>\n",
       "<tbody>\n",
       "\t<tr><th scope=row>item_1</th><td> 2.2955979</td><td>-1.3996821</td><td> 0.8596603</td><td>0.3248178</td></tr>\n",
       "\t<tr><th scope=row>item_2</th><td> 0.3343030</td><td>-0.7841415</td><td>-0.5195590</td><td>0.3566361</td></tr>\n",
       "\t<tr><th scope=row>item_3</th><td> 0.9370422</td><td>-0.6861884</td><td> 0.2494438</td><td>0.2722413</td></tr>\n",
       "\t<tr><th scope=row>item_4</th><td>-0.9963645</td><td>-0.8015932</td><td>-1.2797614</td><td>0.2861182</td></tr>\n",
       "\t<tr><th scope=row>item_5</th><td>-1.1635442</td><td> 0.7755947</td><td>-0.2135808</td><td>0.2165807</td></tr>\n",
       "\t<tr><th scope=row>item_6</th><td> 1.7601971</td><td> 1.3469242</td><td> 2.3233063</td><td>0.4796265</td></tr>\n",
       "</tbody>\n",
       "</table>\n"
      ],
      "text/latex": [
       "A matrix: 6 × 4 of type dbl\n",
       "\\begin{tabular}{r|llll}\n",
       "  & Mild & Severe & MeanDecreaseAccuracy & MeanDecreaseGini\\\\\n",
       "\\hline\n",
       "\titem\\_1 &  2.2955979 & -1.3996821 &  0.8596603 & 0.3248178\\\\\n",
       "\titem\\_2 &  0.3343030 & -0.7841415 & -0.5195590 & 0.3566361\\\\\n",
       "\titem\\_3 &  0.9370422 & -0.6861884 &  0.2494438 & 0.2722413\\\\\n",
       "\titem\\_4 & -0.9963645 & -0.8015932 & -1.2797614 & 0.2861182\\\\\n",
       "\titem\\_5 & -1.1635442 &  0.7755947 & -0.2135808 & 0.2165807\\\\\n",
       "\titem\\_6 &  1.7601971 &  1.3469242 &  2.3233063 & 0.4796265\\\\\n",
       "\\end{tabular}\n"
      ],
      "text/markdown": [
       "\n",
       "A matrix: 6 × 4 of type dbl\n",
       "\n",
       "| <!--/--> | Mild | Severe | MeanDecreaseAccuracy | MeanDecreaseGini |\n",
       "|---|---|---|---|---|\n",
       "| item_1 |  2.2955979 | -1.3996821 |  0.8596603 | 0.3248178 |\n",
       "| item_2 |  0.3343030 | -0.7841415 | -0.5195590 | 0.3566361 |\n",
       "| item_3 |  0.9370422 | -0.6861884 |  0.2494438 | 0.2722413 |\n",
       "| item_4 | -0.9963645 | -0.8015932 | -1.2797614 | 0.2861182 |\n",
       "| item_5 | -1.1635442 |  0.7755947 | -0.2135808 | 0.2165807 |\n",
       "| item_6 |  1.7601971 |  1.3469242 |  2.3233063 | 0.4796265 |\n",
       "\n"
      ],
      "text/plain": [
       "       Mild       Severe     MeanDecreaseAccuracy MeanDecreaseGini\n",
       "item_1  2.2955979 -1.3996821  0.8596603           0.3248178       \n",
       "item_2  0.3343030 -0.7841415 -0.5195590           0.3566361       \n",
       "item_3  0.9370422 -0.6861884  0.2494438           0.2722413       \n",
       "item_4 -0.9963645 -0.8015932 -1.2797614           0.2861182       \n",
       "item_5 -1.1635442  0.7755947 -0.2135808           0.2165807       \n",
       "item_6  1.7601971  1.3469242  2.3233063           0.4796265       "
      ]
     },
     "metadata": {},
     "output_type": "display_data"
    }
   ],
   "source": [
    "head(importance(model_rf))"
   ]
  },
  {
   "cell_type": "code",
   "execution_count": 7,
   "id": "173e3a98-e3de-470f-9d1d-47d68364c0e3",
   "metadata": {},
   "outputs": [
    {
     "data": {
      "image/png": "[encoded data removed]",
      "text/plain": [
       "plot without title"
      ]
     },
     "metadata": {
      "image/png": {
       "height": 420,
       "width": 420
      }
     },
     "output_type": "display_data"
    }
   ],
   "source": [
    "varImpPlot(model_rf)"
   ]
  },
  {
   "cell_type": "code",
   "execution_count": 8,
   "id": "744fe16c-8bac-4371-977b-d4f6fa84b8fe",
   "metadata": {},
   "outputs": [
    {
     "data": {
      "text/html": [
       "<table class=\"dataframe\">\n",
       "<caption>A matrix: 6 × 4 of type dbl</caption>\n",
       "<thead>\n",
       "\t<tr><th></th><th scope=col>Mild</th><th scope=col>Severe</th><th scope=col>MeanDecreaseAccuracy</th><th scope=col>MeanDecreaseGini</th></tr>\n",
       "</thead>\n",
       "<tbody>\n",
       "\t<tr><th scope=row>item_1</th><td>-0.2359227</td><td>-0.7113495</td><td>-0.6897932</td><td>4.069706</td></tr>\n",
       "\t<tr><th scope=row>item_2</th><td>-0.3526963</td><td>-0.5282856</td><td>-0.5773693</td><td>3.765242</td></tr>\n",
       "\t<tr><th scope=row>item_3</th><td> 0.1870321</td><td> 0.7645947</td><td> 0.5813277</td><td>3.380893</td></tr>\n",
       "\t<tr><th scope=row>item_4</th><td>-0.8391036</td><td>-0.7124114</td><td>-1.0146482</td><td>3.643735</td></tr>\n",
       "\t<tr><th scope=row>item_5</th><td> 0.6764762</td><td>-2.5724378</td><td>-1.1346736</td><td>3.543527</td></tr>\n",
       "\t<tr><th scope=row>item_6</th><td>-0.8615321</td><td> 0.2490511</td><td>-0.5070398</td><td>4.554014</td></tr>\n",
       "</tbody>\n",
       "</table>\n"
      ],
      "text/latex": [
       "A matrix: 6 × 4 of type dbl\n",
       "\\begin{tabular}{r|llll}\n",
       "  & Mild & Severe & MeanDecreaseAccuracy & MeanDecreaseGini\\\\\n",
       "\\hline\n",
       "\titem\\_1 & -0.2359227 & -0.7113495 & -0.6897932 & 4.069706\\\\\n",
       "\titem\\_2 & -0.3526963 & -0.5282856 & -0.5773693 & 3.765242\\\\\n",
       "\titem\\_3 &  0.1870321 &  0.7645947 &  0.5813277 & 3.380893\\\\\n",
       "\titem\\_4 & -0.8391036 & -0.7124114 & -1.0146482 & 3.643735\\\\\n",
       "\titem\\_5 &  0.6764762 & -2.5724378 & -1.1346736 & 3.543527\\\\\n",
       "\titem\\_6 & -0.8615321 &  0.2490511 & -0.5070398 & 4.554014\\\\\n",
       "\\end{tabular}\n"
      ],
      "text/markdown": [
       "\n",
       "A matrix: 6 × 4 of type dbl\n",
       "\n",
       "| <!--/--> | Mild | Severe | MeanDecreaseAccuracy | MeanDecreaseGini |\n",
       "|---|---|---|---|---|\n",
       "| item_1 | -0.2359227 | -0.7113495 | -0.6897932 | 4.069706 |\n",
       "| item_2 | -0.3526963 | -0.5282856 | -0.5773693 | 3.765242 |\n",
       "| item_3 |  0.1870321 |  0.7645947 |  0.5813277 | 3.380893 |\n",
       "| item_4 | -0.8391036 | -0.7124114 | -1.0146482 | 3.643735 |\n",
       "| item_5 |  0.6764762 | -2.5724378 | -1.1346736 | 3.543527 |\n",
       "| item_6 | -0.8615321 |  0.2490511 | -0.5070398 | 4.554014 |\n",
       "\n"
      ],
      "text/plain": [
       "       Mild       Severe     MeanDecreaseAccuracy MeanDecreaseGini\n",
       "item_1 -0.2359227 -0.7113495 -0.6897932           4.069706        \n",
       "item_2 -0.3526963 -0.5282856 -0.5773693           3.765242        \n",
       "item_3  0.1870321  0.7645947  0.5813277           3.380893        \n",
       "item_4 -0.8391036 -0.7124114 -1.0146482           3.643735        \n",
       "item_5  0.6764762 -2.5724378 -1.1346736           3.543527        \n",
       "item_6 -0.8615321  0.2490511 -0.5070398           4.554014        "
      ]
     },
     "metadata": {},
     "output_type": "display_data"
    }
   ],
   "source": [
    "head(importance(model_rf_random))"
   ]
  },
  {
   "cell_type": "code",
   "execution_count": 9,
   "id": "5c5f1f3d-420d-4c08-a37d-f088dc0ac215",
   "metadata": {},
   "outputs": [
    {
     "data": {
      "image/png": "[encoded data removed]",
      "text/plain": [
       "plot without title"
      ]
     },
     "metadata": {
      "image/png": {
       "height": 420,
       "width": 420
      }
     },
     "output_type": "display_data"
    }
   ],
   "source": [
    "varImpPlot(model_rf_random)"
   ]
  },
  {
   "cell_type": "markdown",
   "id": "0a28fb1f-fc69-447b-837a-ea3d13182838",
   "metadata": {},
   "source": [
    "## テスト"
   ]
  },
  {
   "cell_type": "code",
   "execution_count": 10,
   "id": "d4fbdc7e-a627-4501-8818-c0a10fd7630e",
   "metadata": {},
   "outputs": [
    {
     "data": {
      "text/html": [
       "<table class=\"dataframe\">\n",
       "<caption>A data.frame: 6 × 4</caption>\n",
       "<thead>\n",
       "\t<tr><th></th><th scope=col>Mild</th><th scope=col>Severe</th><th scope=col>prediction</th><th scope=col>observed</th></tr>\n",
       "\t<tr><th></th><th scope=col>&lt;dbl&gt;</th><th scope=col>&lt;dbl&gt;</th><th scope=col>&lt;chr&gt;</th><th scope=col>&lt;chr&gt;</th></tr>\n",
       "</thead>\n",
       "<tbody>\n",
       "\t<tr><th scope=row>5</th><td>0.030</td><td>0.970</td><td>Severe</td><td>Severe</td></tr>\n",
       "\t<tr><th scope=row>8</th><td>0.034</td><td>0.966</td><td>Severe</td><td>Severe</td></tr>\n",
       "\t<tr><th scope=row>10</th><td>0.028</td><td>0.972</td><td>Severe</td><td>Severe</td></tr>\n",
       "\t<tr><th scope=row>18</th><td>0.050</td><td>0.950</td><td>Severe</td><td>Severe</td></tr>\n",
       "\t<tr><th scope=row>24</th><td>0.014</td><td>0.986</td><td>Severe</td><td>Severe</td></tr>\n",
       "\t<tr><th scope=row>29</th><td>0.054</td><td>0.946</td><td>Severe</td><td>Severe</td></tr>\n",
       "</tbody>\n",
       "</table>\n"
      ],
      "text/latex": [
       "A data.frame: 6 × 4\n",
       "\\begin{tabular}{r|llll}\n",
       "  & Mild & Severe & prediction & observed\\\\\n",
       "  & <dbl> & <dbl> & <chr> & <chr>\\\\\n",
       "\\hline\n",
       "\t5 & 0.030 & 0.970 & Severe & Severe\\\\\n",
       "\t8 & 0.034 & 0.966 & Severe & Severe\\\\\n",
       "\t10 & 0.028 & 0.972 & Severe & Severe\\\\\n",
       "\t18 & 0.050 & 0.950 & Severe & Severe\\\\\n",
       "\t24 & 0.014 & 0.986 & Severe & Severe\\\\\n",
       "\t29 & 0.054 & 0.946 & Severe & Severe\\\\\n",
       "\\end{tabular}\n"
      ],
      "text/markdown": [
       "\n",
       "A data.frame: 6 × 4\n",
       "\n",
       "| <!--/--> | Mild &lt;dbl&gt; | Severe &lt;dbl&gt; | prediction &lt;chr&gt; | observed &lt;chr&gt; |\n",
       "|---|---|---|---|---|\n",
       "| 5 | 0.030 | 0.970 | Severe | Severe |\n",
       "| 8 | 0.034 | 0.966 | Severe | Severe |\n",
       "| 10 | 0.028 | 0.972 | Severe | Severe |\n",
       "| 18 | 0.050 | 0.950 | Severe | Severe |\n",
       "| 24 | 0.014 | 0.986 | Severe | Severe |\n",
       "| 29 | 0.054 | 0.946 | Severe | Severe |\n",
       "\n"
      ],
      "text/plain": [
       "   Mild  Severe prediction observed\n",
       "5  0.030 0.970  Severe     Severe  \n",
       "8  0.034 0.966  Severe     Severe  \n",
       "10 0.028 0.972  Severe     Severe  \n",
       "18 0.050 0.950  Severe     Severe  \n",
       "24 0.014 0.986  Severe     Severe  \n",
       "29 0.054 0.946  Severe     Severe  "
      ]
     },
     "metadata": {},
     "output_type": "display_data"
    }
   ],
   "source": [
    "prediction_rf <- as.data.frame(predict(model_rf, data_test[, -1], type = \"prob\"))\n",
    "prediction_rf <- mutate(prediction_rf, prediction = ifelse(Mild > Severe, \"Mild\", \"Severe\"))\n",
    "prediction_rf$observed <- data_test$severity\n",
    "head(prediction_rf)"
   ]
  },
  {
   "cell_type": "code",
   "execution_count": 11,
   "id": "9d15260c-8982-44d9-9fbe-6e9d74acb5fb",
   "metadata": {},
   "outputs": [],
   "source": [
    "prediction_rf_random <- as.data.frame(predict(model_rf_random, data_test_random[, -1], type = \"prob\"))"
   ]
  },
  {
   "cell_type": "code",
   "execution_count": 12,
   "id": "4770fae8-3761-4a1f-af4b-bf036e6214d9",
   "metadata": {},
   "outputs": [
    {
     "name": "stderr",
     "output_type": "stream",
     "text": [
      "Setting levels: control = Mild, case = Severe\n",
      "\n",
      "Setting direction: controls < cases\n",
      "\n",
      "Setting levels: control = Mild, case = Severe\n",
      "\n",
      "Setting direction: controls > cases\n",
      "\n"
     ]
    }
   ],
   "source": [
    "test_roc <- roc(data_test$severity, prediction_rf[, 2])\n",
    "test_roc_random <- roc(data_test_random$severity, prediction_rf_random[, 2])"
   ]
  },
  {
   "cell_type": "code",
   "execution_count": 13,
   "id": "b1d18245-31c2-42dc-8e04-29dc7ffc0fc2",
   "metadata": {},
   "outputs": [
    {
     "data": {
      "image/png": "[encoded data removed]",
      "text/plain": [
       "plot without title"
      ]
     },
     "metadata": {
      "image/png": {
       "height": 420,
       "width": 420
      }
     },
     "output_type": "display_data"
    }
   ],
   "source": [
    "plot(test_roc)"
   ]
  },
  {
   "cell_type": "code",
   "execution_count": 14,
   "id": "e81f8ab1-0304-46d3-a10d-311b459f268d",
   "metadata": {},
   "outputs": [
    {
     "data": {
      "image/png": "[encoded data removed]",
      "text/plain": [
       "plot without title"
      ]
     },
     "metadata": {
      "image/png": {
       "height": 420,
       "width": 420
      }
     },
     "output_type": "display_data"
    }
   ],
   "source": [
    "plot(test_roc_random)"
   ]
  },
  {
   "cell_type": "code",
   "execution_count": null,
   "id": "79001502-6ff8-4839-bd6d-9184f41e1e8b",
   "metadata": {},
   "outputs": [],
   "source": []
  }
 ],
 "metadata": {
  "kernelspec": {
   "display_name": "R",
   "language": "R",
   "name": "ir"
  },
  "language_info": {
   "codemirror_mode": "r",
   "file_extension": ".r",
   "mimetype": "text/x-r-source",
   "name": "R",
   "pygments_lexer": "r",
   "version": "4.3.2"
  }
 },
 "nbformat": 4,
 "nbformat_minor": 5
}
