{
 "cells": [
  {
   "cell_type": "markdown",
   "id": "4f80430b-9e7e-4a97-aeda-ee0a90901c34",
   "metadata": {},
   "source": [
    "# コード8-1：NLMEMを用いたパラメータ推定の実装\n",
    "\n",
    "『ウイルス感染の数理モデルとシミュレーション ーデータを定量的に理解するー』\n",
    "\n",
    "NLMEMを用いたパラメータ推定の実装の例をまとめる。"
   ]
  },
  {
   "cell_type": "markdown",
   "id": "865ec360-9bf3-4513-915e-0aa32dd947a2",
   "metadata": {},
   "source": [
    "## Monolixを用いた非線形混合効果モデルの実装\n",
    "\n",
    "一般的な非線形混合効果モデルを実装するためには複数のパッケージ等が存在するが、それらを用いてパラメータ推定のアルゴリズムであるstochastic approximation expectation maximization（SAEM）とODEの数値計算を高速に実行するためには、工夫が必要であると考えられる。Monolixではこれらの点が解決されるインターフェースが準備されているので使い勝手が良い。\n",
    "\n",
    "GUIでも利用することができるが、ここではR APIを用いた実装を紹介する。\n",
    "\n",
    "学術利用（非商用）で無料のライセンスの取得が必須である。\n",
    "\n",
    "また、2024年2月現在、MonolixSuite2023R1においてはApple Silicon用のアプリがリリースされていないことから、Rosettaによる変換が必要であり、R APIを利用することはできない。\n",
    "\n",
    "\n",
    "- Monolix  \n",
    "https://lixoft.com/products/monolix/\n",
    "- Monolix Documentation  \n",
    "https://monolix.lixoft.com/\n",
    "- R API  \n",
    "https://monolix.lixoft.com/monolix-api/"
   ]
  },
  {
   "cell_type": "code",
   "execution_count": 1,
   "id": "2dcd4b74-f38e-42af-aa47-d4caaeb2c4da",
   "metadata": {},
   "outputs": [],
   "source": [
    "## initialization\n",
    "## https://monolix.lixoft.com/monolix-api/lixoftconnectors_installation/\n",
    "#install.packages('RJSONIO')\n",
    "#install.packages(\"~/Lixoft/MonolixSuite2023R1/connectors/lixoftConnectors.tar.gz\", repos = NULL, type=\"source\", INSTALL_opts =\"--no-multiarch\")"
   ]
  },
  {
   "cell_type": "markdown",
   "id": "793fd2bf-4466-4610-b10a-9d06a64fd1ed",
   "metadata": {},
   "source": [
    "## データ"
   ]
  },
  {
   "cell_type": "code",
   "execution_count": 2,
   "id": "6a497499-33ca-4413-b04a-9dbfd617ed26",
   "metadata": {},
   "outputs": [
    {
     "data": {
      "text/html": [
       "<table class=\"dataframe\">\n",
       "<caption>A data.frame: 6 × 5</caption>\n",
       "<thead>\n",
       "\t<tr><th></th><th scope=col>time</th><th scope=col>VL</th><th scope=col>id</th><th scope=col>cens</th><th scope=col>limit</th></tr>\n",
       "\t<tr><th></th><th scope=col>&lt;int&gt;</th><th scope=col>&lt;dbl&gt;</th><th scope=col>&lt;int&gt;</th><th scope=col>&lt;chr&gt;</th><th scope=col>&lt;dbl&gt;</th></tr>\n",
       "</thead>\n",
       "<tbody>\n",
       "\t<tr><th scope=row>1</th><td>19</td><td>   100.0000</td><td>1</td><td>1</td><td>1e-04</td></tr>\n",
       "\t<tr><th scope=row>2</th><td>13</td><td>   100.0000</td><td>1</td><td>1</td><td>1e-04</td></tr>\n",
       "\t<tr><th scope=row>3</th><td>10</td><td>   219.9138</td><td>1</td><td>.</td><td>1e-04</td></tr>\n",
       "\t<tr><th scope=row>4</th><td>15</td><td>   100.0000</td><td>1</td><td>1</td><td>1e-04</td></tr>\n",
       "\t<tr><th scope=row>5</th><td> 2</td><td>348243.3116</td><td>1</td><td>.</td><td>1e-04</td></tr>\n",
       "\t<tr><th scope=row>6</th><td> 1</td><td>193073.6141</td><td>1</td><td>.</td><td>1e-04</td></tr>\n",
       "</tbody>\n",
       "</table>\n"
      ],
      "text/latex": [
       "A data.frame: 6 × 5\n",
       "\\begin{tabular}{r|lllll}\n",
       "  & time & VL & id & cens & limit\\\\\n",
       "  & <int> & <dbl> & <int> & <chr> & <dbl>\\\\\n",
       "\\hline\n",
       "\t1 & 19 &    100.0000 & 1 & 1 & 1e-04\\\\\n",
       "\t2 & 13 &    100.0000 & 1 & 1 & 1e-04\\\\\n",
       "\t3 & 10 &    219.9138 & 1 & . & 1e-04\\\\\n",
       "\t4 & 15 &    100.0000 & 1 & 1 & 1e-04\\\\\n",
       "\t5 &  2 & 348243.3116 & 1 & . & 1e-04\\\\\n",
       "\t6 &  1 & 193073.6141 & 1 & . & 1e-04\\\\\n",
       "\\end{tabular}\n"
      ],
      "text/markdown": [
       "\n",
       "A data.frame: 6 × 5\n",
       "\n",
       "| <!--/--> | time &lt;int&gt; | VL &lt;dbl&gt; | id &lt;int&gt; | cens &lt;chr&gt; | limit &lt;dbl&gt; |\n",
       "|---|---|---|---|---|---|\n",
       "| 1 | 19 |    100.0000 | 1 | 1 | 1e-04 |\n",
       "| 2 | 13 |    100.0000 | 1 | 1 | 1e-04 |\n",
       "| 3 | 10 |    219.9138 | 1 | . | 1e-04 |\n",
       "| 4 | 15 |    100.0000 | 1 | 1 | 1e-04 |\n",
       "| 5 |  2 | 348243.3116 | 1 | . | 1e-04 |\n",
       "| 6 |  1 | 193073.6141 | 1 | . | 1e-04 |\n",
       "\n"
      ],
      "text/plain": [
       "  time VL          id cens limit\n",
       "1 19      100.0000 1  1    1e-04\n",
       "2 13      100.0000 1  1    1e-04\n",
       "3 10      219.9138 1  .    1e-04\n",
       "4 15      100.0000 1  1    1e-04\n",
       "5  2   348243.3116 1  .    1e-04\n",
       "6  1   193073.6141 1  .    1e-04"
      ]
     },
     "metadata": {},
     "output_type": "display_data"
    }
   ],
   "source": [
    "dataPath <- \"../../data/08_01/data_08_01.csv\"\n",
    "head(read.csv(dataPath))"
   ]
  },
  {
   "cell_type": "code",
   "execution_count": 26,
   "id": "d2f5da1a-7d4f-46c0-81cf-dd1ae3e46875",
   "metadata": {},
   "outputs": [
    {
     "data": {
      "text/html": [
       "100"
      ],
      "text/latex": [
       "100"
      ],
      "text/markdown": [
       "100"
      ],
      "text/plain": [
       "[1] 100"
      ]
     },
     "metadata": {},
     "output_type": "display_data"
    }
   ],
   "source": [
    "min(read.csv(dataPath)$VL)"
   ]
  },
  {
   "cell_type": "code",
   "execution_count": 4,
   "id": "992365cf-beb1-42f6-8c2e-8a083f324466",
   "metadata": {},
   "outputs": [],
   "source": [
    "dataTypes <- c(\"time\", \"observation\", \"id\", \"cens\", \"limit\")\n",
    "observationTypes <- list(\"VL\" = \"continuous\")"
   ]
  },
  {
   "cell_type": "markdown",
   "id": "789421a1-4b63-4ffa-b751-6bc69e8b29ab",
   "metadata": {},
   "source": [
    "## モデル"
   ]
  },
  {
   "cell_type": "code",
   "execution_count": 5,
   "id": "bbc342f3-a8ed-4847-bb17-2505ca0fbf3d",
   "metadata": {},
   "outputs": [],
   "source": [
    "modelPath <- \"../../data/08_01/model_08_01.txt\""
   ]
  },
  {
   "cell_type": "markdown",
   "id": "6836b911-68eb-493c-bed8-e456a889be46",
   "metadata": {},
   "source": [
    "## 新規プロジェクト or プロジェクト読み込み"
   ]
  },
  {
   "cell_type": "code",
   "execution_count": 6,
   "id": "74a28ffa-cf73-49f2-a696-cdb579bcf133",
   "metadata": {},
   "outputs": [
    {
     "name": "stderr",
     "output_type": "stream",
     "text": [
      "Loading required package: RJSONIO\n",
      "\n",
      "[INFO] The directory specified in the initialization file of the Lixoft Suite (located at \"/home/iwanami/lixoft/lixoft.ini\") will be used by default: \"/home/iwanami/Lixoft/MonolixSuite2023R1\"\n",
      "\n",
      "[INFO] The lixoftConnectors package has been successfully initialized:\n",
      "lixoftConnectors package version -> 2023.1\n",
      "Lixoft softwares suite version   -> 2023R1\n",
      "\n"
     ]
    }
   ],
   "source": [
    "library(lixoftConnectors)\n",
    "initializeLixoftConnectors(\"monolix\")"
   ]
  },
  {
   "cell_type": "code",
   "execution_count": 7,
   "id": "914ef58b-1568-457e-aa8b-a72be0a81fc0",
   "metadata": {},
   "outputs": [],
   "source": [
    "name_project_file <- \"outputs/08_01/virusdynamics.mlxtran\""
   ]
  },
  {
   "cell_type": "code",
   "execution_count": 8,
   "id": "2aa066a5-aed4-467e-a58d-47a7c87f5dfa",
   "metadata": {},
   "outputs": [],
   "source": [
    "mappingList <- list(list(data = \"VL\", prediction = \"VL\", model = \"y1\"))\n",
    "\n",
    "newProject(data = list(dataFile = dataPath,\n",
    "                       headerTypes = dataTypes,\n",
    "                       observationTypes = observationTypes,\n",
    "                       mapping = mappingList),\n",
    "           modelFile = modelPath)\n",
    "\n",
    "saveProject(projectFile = name_project_file)"
   ]
  },
  {
   "cell_type": "code",
   "execution_count": 9,
   "id": "3d429480-7470-454e-a333-be5974b9ba88",
   "metadata": {},
   "outputs": [],
   "source": [
    "if (!isProjectLoaded()){\n",
    "    loadProject(name_project_file)\n",
    "}"
   ]
  },
  {
   "cell_type": "markdown",
   "id": "6870a118-be3e-469e-b2a3-081d031a08b7",
   "metadata": {},
   "source": [
    "## 観測モデルと誤差モデルの設定"
   ]
  },
  {
   "cell_type": "code",
   "execution_count": 10,
   "id": "99dd8d3c-6bce-4f87-83a1-37d345c7150c",
   "metadata": {},
   "outputs": [
    {
     "data": {
      "text/html": [
       "<dl>\n",
       "\t<dt>$prediction</dt>\n",
       "\t\t<dd><strong>VL_:</strong> 'VL'</dd>\n",
       "\t<dt>$formula</dt>\n",
       "\t\t<dd><strong>VL_:</strong> 'VL_ = VL + (a + b*VL) * e\\n'</dd>\n",
       "\t<dt>$distribution</dt>\n",
       "\t\t<dd><strong>VL_:</strong> 'normal'</dd>\n",
       "\t<dt>$errorModel</dt>\n",
       "\t\t<dd><strong>VL_:</strong> 'combined1'</dd>\n",
       "\t<dt>$parameters</dt>\n",
       "\t\t<dd><strong>$VL_</strong> = <style>\n",
       ".list-inline {list-style: none; margin:0; padding: 0}\n",
       ".list-inline>li {display: inline-block}\n",
       ".list-inline>li:not(:last-child)::after {content: \"\\00b7\"; padding: 0 .5ex}\n",
       "</style>\n",
       "<ol class=list-inline><li>'a'</li><li>'b'</li><li>'c'</li></ol>\n",
       "</dd>\n",
       "\t<dt>$autocorrelation</dt>\n",
       "\t\t<dd><strong>VL_:</strong> FALSE</dd>\n",
       "</dl>\n"
      ],
      "text/latex": [
       "\\begin{description}\n",
       "\\item[\\$prediction] \\textbf{VL\\textbackslash{}\\_:} 'VL'\n",
       "\\item[\\$formula] \\textbf{VL\\textbackslash{}\\_:} 'VL\\_ = VL + (a + b*VL) * e\\textbackslash{}n'\n",
       "\\item[\\$distribution] \\textbf{VL\\textbackslash{}\\_:} 'normal'\n",
       "\\item[\\$errorModel] \\textbf{VL\\textbackslash{}\\_:} 'combined1'\n",
       "\\item[\\$parameters] \\textbf{\\$VL\\_} = \\begin{enumerate*}\n",
       "\\item 'a'\n",
       "\\item 'b'\n",
       "\\item 'c'\n",
       "\\end{enumerate*}\n",
       "\n",
       "\\item[\\$autocorrelation] \\textbf{VL\\textbackslash{}\\_:} FALSE\n",
       "\\end{description}\n"
      ],
      "text/markdown": [
       "$prediction\n",
       ":   **VL_:** 'VL'\n",
       "$formula\n",
       ":   **VL_:** 'VL_ = VL + (a + b*VL) * e\\n'\n",
       "$distribution\n",
       ":   **VL_:** 'normal'\n",
       "$errorModel\n",
       ":   **VL_:** 'combined1'\n",
       "$parameters\n",
       ":   **$VL_** = 1. 'a'\n",
       "2. 'b'\n",
       "3. 'c'\n",
       "\n",
       "\n",
       "\n",
       "$autocorrelation\n",
       ":   **VL_:** FALSE\n",
       "\n",
       "\n"
      ],
      "text/plain": [
       "$prediction\n",
       " VL_ \n",
       "\"VL\" \n",
       "\n",
       "$formula\n",
       "                          VL_ \n",
       "\"VL_ = VL + (a + b*VL) * e\\n\" \n",
       "\n",
       "$distribution\n",
       "     VL_ \n",
       "\"normal\" \n",
       "\n",
       "$errorModel\n",
       "        VL_ \n",
       "\"combined1\" \n",
       "\n",
       "$parameters\n",
       "$parameters$VL_\n",
       "[1] \"a\" \"b\" \"c\"\n",
       "\n",
       "\n",
       "$autocorrelation\n",
       "  VL_ \n",
       "FALSE \n"
      ]
     },
     "metadata": {},
     "output_type": "display_data"
    }
   ],
   "source": [
    "getContinuousObservationModel()"
   ]
  },
  {
   "cell_type": "code",
   "execution_count": 11,
   "id": "95e44d3f-29aa-4e2e-89e7-b195aa5c66ab",
   "metadata": {},
   "outputs": [],
   "source": [
    "setMapping(list(list(data = \"VL\", prediction = \"VL\", model = \"y1\")))"
   ]
  },
  {
   "cell_type": "code",
   "execution_count": 12,
   "id": "6fdfa3dc-5eee-4ae8-abc3-b4492b0ffc40",
   "metadata": {},
   "outputs": [],
   "source": [
    "setObservationDistribution(y1 = \"logNormal\")\n",
    "setErrorModel(y1 = \"constant\")"
   ]
  },
  {
   "cell_type": "code",
   "execution_count": 13,
   "id": "01980472-dec4-4566-a928-bdab1d400130",
   "metadata": {},
   "outputs": [
    {
     "data": {
      "text/html": [
       "<dl>\n",
       "\t<dt>$prediction</dt>\n",
       "\t\t<dd><strong>y1:</strong> 'VL'</dd>\n",
       "\t<dt>$formula</dt>\n",
       "\t\t<dd><strong>y1:</strong> 'log(y1) = log(VL) + a * e\\n'</dd>\n",
       "\t<dt>$distribution</dt>\n",
       "\t\t<dd><strong>y1:</strong> 'logNormal'</dd>\n",
       "\t<dt>$errorModel</dt>\n",
       "\t\t<dd><strong>y1:</strong> 'constant'</dd>\n",
       "\t<dt>$parameters</dt>\n",
       "\t\t<dd><strong>$y1</strong> = 'a'</dd>\n",
       "\t<dt>$autocorrelation</dt>\n",
       "\t\t<dd><strong>y1:</strong> FALSE</dd>\n",
       "</dl>\n"
      ],
      "text/latex": [
       "\\begin{description}\n",
       "\\item[\\$prediction] \\textbf{y1:} 'VL'\n",
       "\\item[\\$formula] \\textbf{y1:} 'log(y1) = log(VL) + a * e\\textbackslash{}n'\n",
       "\\item[\\$distribution] \\textbf{y1:} 'logNormal'\n",
       "\\item[\\$errorModel] \\textbf{y1:} 'constant'\n",
       "\\item[\\$parameters] \\textbf{\\$y1} = 'a'\n",
       "\\item[\\$autocorrelation] \\textbf{y1:} FALSE\n",
       "\\end{description}\n"
      ],
      "text/markdown": [
       "$prediction\n",
       ":   **y1:** 'VL'\n",
       "$formula\n",
       ":   **y1:** 'log(y1) = log(VL) + a * e\\n'\n",
       "$distribution\n",
       ":   **y1:** 'logNormal'\n",
       "$errorModel\n",
       ":   **y1:** 'constant'\n",
       "$parameters\n",
       ":   **$y1** = 'a'\n",
       "$autocorrelation\n",
       ":   **y1:** FALSE\n",
       "\n",
       "\n"
      ],
      "text/plain": [
       "$prediction\n",
       "  y1 \n",
       "\"VL\" \n",
       "\n",
       "$formula\n",
       "                           y1 \n",
       "\"log(y1) = log(VL) + a * e\\n\" \n",
       "\n",
       "$distribution\n",
       "         y1 \n",
       "\"logNormal\" \n",
       "\n",
       "$errorModel\n",
       "        y1 \n",
       "\"constant\" \n",
       "\n",
       "$parameters\n",
       "$parameters$y1\n",
       "[1] \"a\"\n",
       "\n",
       "\n",
       "$autocorrelation\n",
       "   y1 \n",
       "FALSE \n"
      ]
     },
     "metadata": {},
     "output_type": "display_data"
    }
   ],
   "source": [
    "getContinuousObservationModel()"
   ]
  },
  {
   "cell_type": "markdown",
   "id": "9ef0509d-c85d-4e5e-b6ba-3d76b12102d3",
   "metadata": {},
   "source": [
    "### パラメータの分布と混合効果の設定"
   ]
  },
  {
   "cell_type": "code",
   "execution_count": 14,
   "id": "e2278f14-f6ff-44d1-8898-a866380f99bf",
   "metadata": {},
   "outputs": [
    {
     "data": {
      "text/html": [
       "<dl>\n",
       "\t<dt>$name</dt>\n",
       "\t\t<dd><style>\n",
       ".list-inline {list-style: none; margin:0; padding: 0}\n",
       ".list-inline>li {display: inline-block}\n",
       ".list-inline>li:not(:last-child)::after {content: \"\\00b7\"; padding: 0 .5ex}\n",
       "</style>\n",
       "<ol class=list-inline><li>'beta'</li><li>'gamma'</li><li>'delta'</li><li>'V0'</li></ol>\n",
       "</dd>\n",
       "\t<dt>$distribution</dt>\n",
       "\t\t<dd><style>\n",
       ".dl-inline {width: auto; margin:0; padding: 0}\n",
       ".dl-inline>dt, .dl-inline>dd {float: none; width: auto; display: inline-block}\n",
       ".dl-inline>dt::after {content: \":\\0020\"; padding-right: .5ex}\n",
       ".dl-inline>dt:not(:first-of-type) {padding-left: .5ex}\n",
       "</style><dl class=dl-inline><dt>beta</dt><dd>'logNormal'</dd><dt>gamma</dt><dd>'logNormal'</dd><dt>delta</dt><dd>'logNormal'</dd><dt>V0</dt><dd>'logNormal'</dd></dl>\n",
       "</dd>\n",
       "\t<dt>$limits</dt>\n",
       "\t\t<dd><dl>\n",
       "</dl>\n",
       "</dd>\n",
       "\t<dt>$formula</dt>\n",
       "\t\t<dd>'log(beta) = log(beta_pop) + eta_beta\\nlog(gamma) = log(gamma_pop) + eta_gamma\\nlog(delta) = log(delta_pop) + eta_delta\\nlog(V0) = log(V0_pop) + eta_V0\\n'</dd>\n",
       "\t<dt>$variability</dt>\n",
       "\t\t<dd><strong>$id</strong> = <style>\n",
       ".dl-inline {width: auto; margin:0; padding: 0}\n",
       ".dl-inline>dt, .dl-inline>dd {float: none; width: auto; display: inline-block}\n",
       ".dl-inline>dt::after {content: \":\\0020\"; padding-right: .5ex}\n",
       ".dl-inline>dt:not(:first-of-type) {padding-left: .5ex}\n",
       "</style><dl class=dl-inline><dt>beta</dt><dd>TRUE</dd><dt>gamma</dt><dd>TRUE</dd><dt>delta</dt><dd>TRUE</dd><dt>V0</dt><dd>TRUE</dd></dl>\n",
       "</dd>\n",
       "\t<dt>$covariateModel</dt>\n",
       "\t\t<dd><dl>\n",
       "\t<dt>$beta</dt>\n",
       "\t\t<dd><dl>\n",
       "</dl>\n",
       "</dd>\n",
       "\t<dt>$gamma</dt>\n",
       "\t\t<dd><dl>\n",
       "</dl>\n",
       "</dd>\n",
       "\t<dt>$delta</dt>\n",
       "\t\t<dd><dl>\n",
       "</dl>\n",
       "</dd>\n",
       "\t<dt>$V0</dt>\n",
       "\t\t<dd><dl>\n",
       "</dl>\n",
       "</dd>\n",
       "</dl>\n",
       "</dd>\n",
       "</dl>\n"
      ],
      "text/latex": [
       "\\begin{description}\n",
       "\\item[\\$name] \\begin{enumerate*}\n",
       "\\item 'beta'\n",
       "\\item 'gamma'\n",
       "\\item 'delta'\n",
       "\\item 'V0'\n",
       "\\end{enumerate*}\n",
       "\n",
       "\\item[\\$distribution] \\begin{description*}\n",
       "\\item[beta] 'logNormal'\n",
       "\\item[gamma] 'logNormal'\n",
       "\\item[delta] 'logNormal'\n",
       "\\item[V0] 'logNormal'\n",
       "\\end{description*}\n",
       "\n",
       "\\item[\\$limits] \\begin{description}\n",
       "\\end{description}\n",
       "\n",
       "\\item[\\$formula] 'log(beta) = log(beta\\_pop) + eta\\_beta\\textbackslash{}nlog(gamma) = log(gamma\\_pop) + eta\\_gamma\\textbackslash{}nlog(delta) = log(delta\\_pop) + eta\\_delta\\textbackslash{}nlog(V0) = log(V0\\_pop) + eta\\_V0\\textbackslash{}n'\n",
       "\\item[\\$variability] \\textbf{\\$id} = \\begin{description*}\n",
       "\\item[beta] TRUE\n",
       "\\item[gamma] TRUE\n",
       "\\item[delta] TRUE\n",
       "\\item[V0] TRUE\n",
       "\\end{description*}\n",
       "\n",
       "\\item[\\$covariateModel] \\begin{description}\n",
       "\\item[\\$beta] \\begin{description}\n",
       "\\end{description}\n",
       "\n",
       "\\item[\\$gamma] \\begin{description}\n",
       "\\end{description}\n",
       "\n",
       "\\item[\\$delta] \\begin{description}\n",
       "\\end{description}\n",
       "\n",
       "\\item[\\$V0] \\begin{description}\n",
       "\\end{description}\n",
       "\n",
       "\\end{description}\n",
       "\n",
       "\\end{description}\n"
      ],
      "text/markdown": [
       "$name\n",
       ":   1. 'beta'\n",
       "2. 'gamma'\n",
       "3. 'delta'\n",
       "4. 'V0'\n",
       "\n",
       "\n",
       "\n",
       "$distribution\n",
       ":   beta\n",
       ":   'logNormal'gamma\n",
       ":   'logNormal'delta\n",
       ":   'logNormal'V0\n",
       ":   'logNormal'\n",
       "\n",
       "\n",
       "$limits\n",
       ":   \n",
       "\n",
       "\n",
       "$formula\n",
       ":   'log(beta) = log(beta_pop) + eta_beta\\nlog(gamma) = log(gamma_pop) + eta_gamma\\nlog(delta) = log(delta_pop) + eta_delta\\nlog(V0) = log(V0_pop) + eta_V0\\n'\n",
       "$variability\n",
       ":   **$id** = beta\n",
       ":   TRUEgamma\n",
       ":   TRUEdelta\n",
       ":   TRUEV0\n",
       ":   TRUE\n",
       "\n",
       "\n",
       "$covariateModel\n",
       ":   $beta\n",
       ":   \n",
       "\n",
       "\n",
       "$gamma\n",
       ":   \n",
       "\n",
       "\n",
       "$delta\n",
       ":   \n",
       "\n",
       "\n",
       "$V0\n",
       ":   \n",
       "\n",
       "\n",
       "\n",
       "\n",
       "\n",
       "\n",
       "\n"
      ],
      "text/plain": [
       "$name\n",
       "[1] \"beta\"  \"gamma\" \"delta\" \"V0\"   \n",
       "\n",
       "$distribution\n",
       "       beta       gamma       delta          V0 \n",
       "\"logNormal\" \"logNormal\" \"logNormal\" \"logNormal\" \n",
       "\n",
       "$limits\n",
       "named list()\n",
       "\n",
       "$formula\n",
       "[1] \"log(beta) = log(beta_pop) + eta_beta\\nlog(gamma) = log(gamma_pop) + eta_gamma\\nlog(delta) = log(delta_pop) + eta_delta\\nlog(V0) = log(V0_pop) + eta_V0\\n\"\n",
       "\n",
       "$variability\n",
       "$variability$id\n",
       " beta gamma delta    V0 \n",
       " TRUE  TRUE  TRUE  TRUE \n",
       "\n",
       "\n",
       "$covariateModel\n",
       "$covariateModel$beta\n",
       "named list()\n",
       "\n",
       "$covariateModel$gamma\n",
       "named list()\n",
       "\n",
       "$covariateModel$delta\n",
       "named list()\n",
       "\n",
       "$covariateModel$V0\n",
       "named list()\n",
       "\n"
      ]
     },
     "metadata": {},
     "output_type": "display_data"
    }
   ],
   "source": [
    "getIndividualParameterModel()"
   ]
  },
  {
   "cell_type": "code",
   "execution_count": 15,
   "id": "d0aa4e33-1475-46cb-a67c-a96e6bafa7ed",
   "metadata": {},
   "outputs": [],
   "source": [
    "indivParamModel <- list(variability = list(id = c(beta = TRUE,\n",
    "                                                  gamma = TRUE,\n",
    "                                                  delta = TRUE,\n",
    "                                                  V0 = TRUE)),\n",
    "                        covariateModel = list())\n",
    "\n",
    "\n",
    "\n",
    "setIndividualParameterModel(indivParamModel)"
   ]
  },
  {
   "cell_type": "code",
   "execution_count": 16,
   "id": "0cb63780-6abe-4e79-9c84-17de3ea4b667",
   "metadata": {},
   "outputs": [
    {
     "data": {
      "text/html": [
       "<dl>\n",
       "\t<dt>$name</dt>\n",
       "\t\t<dd><style>\n",
       ".list-inline {list-style: none; margin:0; padding: 0}\n",
       ".list-inline>li {display: inline-block}\n",
       ".list-inline>li:not(:last-child)::after {content: \"\\00b7\"; padding: 0 .5ex}\n",
       "</style>\n",
       "<ol class=list-inline><li>'beta'</li><li>'gamma'</li><li>'delta'</li><li>'V0'</li></ol>\n",
       "</dd>\n",
       "\t<dt>$distribution</dt>\n",
       "\t\t<dd><style>\n",
       ".dl-inline {width: auto; margin:0; padding: 0}\n",
       ".dl-inline>dt, .dl-inline>dd {float: none; width: auto; display: inline-block}\n",
       ".dl-inline>dt::after {content: \":\\0020\"; padding-right: .5ex}\n",
       ".dl-inline>dt:not(:first-of-type) {padding-left: .5ex}\n",
       "</style><dl class=dl-inline><dt>beta</dt><dd>'logNormal'</dd><dt>gamma</dt><dd>'logNormal'</dd><dt>delta</dt><dd>'logNormal'</dd><dt>V0</dt><dd>'logNormal'</dd></dl>\n",
       "</dd>\n",
       "\t<dt>$limits</dt>\n",
       "\t\t<dd><dl>\n",
       "</dl>\n",
       "</dd>\n",
       "\t<dt>$formula</dt>\n",
       "\t\t<dd>'log(beta) = log(beta_pop) + eta_beta\\nlog(gamma) = log(gamma_pop) + eta_gamma\\nlog(delta) = log(delta_pop) + eta_delta\\nlog(V0) = log(V0_pop) + eta_V0\\n'</dd>\n",
       "\t<dt>$variability</dt>\n",
       "\t\t<dd><strong>$id</strong> = <style>\n",
       ".dl-inline {width: auto; margin:0; padding: 0}\n",
       ".dl-inline>dt, .dl-inline>dd {float: none; width: auto; display: inline-block}\n",
       ".dl-inline>dt::after {content: \":\\0020\"; padding-right: .5ex}\n",
       ".dl-inline>dt:not(:first-of-type) {padding-left: .5ex}\n",
       "</style><dl class=dl-inline><dt>beta</dt><dd>TRUE</dd><dt>gamma</dt><dd>TRUE</dd><dt>delta</dt><dd>TRUE</dd><dt>V0</dt><dd>TRUE</dd></dl>\n",
       "</dd>\n",
       "\t<dt>$covariateModel</dt>\n",
       "\t\t<dd><dl>\n",
       "\t<dt>$beta</dt>\n",
       "\t\t<dd><dl>\n",
       "</dl>\n",
       "</dd>\n",
       "\t<dt>$gamma</dt>\n",
       "\t\t<dd><dl>\n",
       "</dl>\n",
       "</dd>\n",
       "\t<dt>$delta</dt>\n",
       "\t\t<dd><dl>\n",
       "</dl>\n",
       "</dd>\n",
       "\t<dt>$V0</dt>\n",
       "\t\t<dd><dl>\n",
       "</dl>\n",
       "</dd>\n",
       "</dl>\n",
       "</dd>\n",
       "</dl>\n"
      ],
      "text/latex": [
       "\\begin{description}\n",
       "\\item[\\$name] \\begin{enumerate*}\n",
       "\\item 'beta'\n",
       "\\item 'gamma'\n",
       "\\item 'delta'\n",
       "\\item 'V0'\n",
       "\\end{enumerate*}\n",
       "\n",
       "\\item[\\$distribution] \\begin{description*}\n",
       "\\item[beta] 'logNormal'\n",
       "\\item[gamma] 'logNormal'\n",
       "\\item[delta] 'logNormal'\n",
       "\\item[V0] 'logNormal'\n",
       "\\end{description*}\n",
       "\n",
       "\\item[\\$limits] \\begin{description}\n",
       "\\end{description}\n",
       "\n",
       "\\item[\\$formula] 'log(beta) = log(beta\\_pop) + eta\\_beta\\textbackslash{}nlog(gamma) = log(gamma\\_pop) + eta\\_gamma\\textbackslash{}nlog(delta) = log(delta\\_pop) + eta\\_delta\\textbackslash{}nlog(V0) = log(V0\\_pop) + eta\\_V0\\textbackslash{}n'\n",
       "\\item[\\$variability] \\textbf{\\$id} = \\begin{description*}\n",
       "\\item[beta] TRUE\n",
       "\\item[gamma] TRUE\n",
       "\\item[delta] TRUE\n",
       "\\item[V0] TRUE\n",
       "\\end{description*}\n",
       "\n",
       "\\item[\\$covariateModel] \\begin{description}\n",
       "\\item[\\$beta] \\begin{description}\n",
       "\\end{description}\n",
       "\n",
       "\\item[\\$gamma] \\begin{description}\n",
       "\\end{description}\n",
       "\n",
       "\\item[\\$delta] \\begin{description}\n",
       "\\end{description}\n",
       "\n",
       "\\item[\\$V0] \\begin{description}\n",
       "\\end{description}\n",
       "\n",
       "\\end{description}\n",
       "\n",
       "\\end{description}\n"
      ],
      "text/markdown": [
       "$name\n",
       ":   1. 'beta'\n",
       "2. 'gamma'\n",
       "3. 'delta'\n",
       "4. 'V0'\n",
       "\n",
       "\n",
       "\n",
       "$distribution\n",
       ":   beta\n",
       ":   'logNormal'gamma\n",
       ":   'logNormal'delta\n",
       ":   'logNormal'V0\n",
       ":   'logNormal'\n",
       "\n",
       "\n",
       "$limits\n",
       ":   \n",
       "\n",
       "\n",
       "$formula\n",
       ":   'log(beta) = log(beta_pop) + eta_beta\\nlog(gamma) = log(gamma_pop) + eta_gamma\\nlog(delta) = log(delta_pop) + eta_delta\\nlog(V0) = log(V0_pop) + eta_V0\\n'\n",
       "$variability\n",
       ":   **$id** = beta\n",
       ":   TRUEgamma\n",
       ":   TRUEdelta\n",
       ":   TRUEV0\n",
       ":   TRUE\n",
       "\n",
       "\n",
       "$covariateModel\n",
       ":   $beta\n",
       ":   \n",
       "\n",
       "\n",
       "$gamma\n",
       ":   \n",
       "\n",
       "\n",
       "$delta\n",
       ":   \n",
       "\n",
       "\n",
       "$V0\n",
       ":   \n",
       "\n",
       "\n",
       "\n",
       "\n",
       "\n",
       "\n",
       "\n"
      ],
      "text/plain": [
       "$name\n",
       "[1] \"beta\"  \"gamma\" \"delta\" \"V0\"   \n",
       "\n",
       "$distribution\n",
       "       beta       gamma       delta          V0 \n",
       "\"logNormal\" \"logNormal\" \"logNormal\" \"logNormal\" \n",
       "\n",
       "$limits\n",
       "named list()\n",
       "\n",
       "$formula\n",
       "[1] \"log(beta) = log(beta_pop) + eta_beta\\nlog(gamma) = log(gamma_pop) + eta_gamma\\nlog(delta) = log(delta_pop) + eta_delta\\nlog(V0) = log(V0_pop) + eta_V0\\n\"\n",
       "\n",
       "$variability\n",
       "$variability$id\n",
       " beta gamma delta    V0 \n",
       " TRUE  TRUE  TRUE  TRUE \n",
       "\n",
       "\n",
       "$covariateModel\n",
       "$covariateModel$beta\n",
       "named list()\n",
       "\n",
       "$covariateModel$gamma\n",
       "named list()\n",
       "\n",
       "$covariateModel$delta\n",
       "named list()\n",
       "\n",
       "$covariateModel$V0\n",
       "named list()\n",
       "\n"
      ]
     },
     "metadata": {},
     "output_type": "display_data"
    }
   ],
   "source": [
    "getIndividualParameterModel()"
   ]
  },
  {
   "cell_type": "markdown",
   "id": "a4bfd17b-75e3-4189-bd9d-bcffeacd4454",
   "metadata": {},
   "source": [
    "### 推定するパラメータとその初期値の設定"
   ]
  },
  {
   "cell_type": "code",
   "execution_count": 17,
   "id": "9f66bba0-d3d3-4d69-bb75-2f5ee2632bfb",
   "metadata": {},
   "outputs": [],
   "source": [
    "setPopulationParameterInformation(beta_pop = list(initialValue = 1e-4),\n",
    "                                  gamma_pop  = list(initialValue = 3),\n",
    "                                  delta_pop = list(initialValue = 1),\n",
    "                                  V0_pop = list(initialValue = 1e+4),\n",
    "                                  omega_beta = list(initialValue = 1),\n",
    "                                  omega_gamma = list(initialValue = 1),\n",
    "                                  omega_delta = list(initialValue = 1),\n",
    "                                  omega_V0 = list(initialValue = 1))"
   ]
  },
  {
   "cell_type": "code",
   "execution_count": 18,
   "id": "63abfb75-f093-40d2-b479-8a4ddea55cd2",
   "metadata": {},
   "outputs": [
    {
     "data": {
      "text/html": [
       "<table class=\"dataframe\">\n",
       "<caption>A data.frame: 9 × 3</caption>\n",
       "<thead>\n",
       "\t<tr><th scope=col>name</th><th scope=col>initialValue</th><th scope=col>method</th></tr>\n",
       "\t<tr><th scope=col>&lt;chr&gt;</th><th scope=col>&lt;dbl&gt;</th><th scope=col>&lt;chr&gt;</th></tr>\n",
       "</thead>\n",
       "<tbody>\n",
       "\t<tr><td>beta_pop   </td><td>1e-04</td><td>MLE</td></tr>\n",
       "\t<tr><td>gamma_pop  </td><td>3e+00</td><td>MLE</td></tr>\n",
       "\t<tr><td>delta_pop  </td><td>1e+00</td><td>MLE</td></tr>\n",
       "\t<tr><td>V0_pop     </td><td>1e+04</td><td>MLE</td></tr>\n",
       "\t<tr><td>omega_V0   </td><td>1e+00</td><td>MLE</td></tr>\n",
       "\t<tr><td>omega_beta </td><td>1e+00</td><td>MLE</td></tr>\n",
       "\t<tr><td>omega_delta</td><td>1e+00</td><td>MLE</td></tr>\n",
       "\t<tr><td>omega_gamma</td><td>1e+00</td><td>MLE</td></tr>\n",
       "\t<tr><td>a          </td><td>1e+00</td><td>MLE</td></tr>\n",
       "</tbody>\n",
       "</table>\n"
      ],
      "text/latex": [
       "A data.frame: 9 × 3\n",
       "\\begin{tabular}{lll}\n",
       " name & initialValue & method\\\\\n",
       " <chr> & <dbl> & <chr>\\\\\n",
       "\\hline\n",
       "\t beta\\_pop    & 1e-04 & MLE\\\\\n",
       "\t gamma\\_pop   & 3e+00 & MLE\\\\\n",
       "\t delta\\_pop   & 1e+00 & MLE\\\\\n",
       "\t V0\\_pop      & 1e+04 & MLE\\\\\n",
       "\t omega\\_V0    & 1e+00 & MLE\\\\\n",
       "\t omega\\_beta  & 1e+00 & MLE\\\\\n",
       "\t omega\\_delta & 1e+00 & MLE\\\\\n",
       "\t omega\\_gamma & 1e+00 & MLE\\\\\n",
       "\t a           & 1e+00 & MLE\\\\\n",
       "\\end{tabular}\n"
      ],
      "text/markdown": [
       "\n",
       "A data.frame: 9 × 3\n",
       "\n",
       "| name &lt;chr&gt; | initialValue &lt;dbl&gt; | method &lt;chr&gt; |\n",
       "|---|---|---|\n",
       "| beta_pop    | 1e-04 | MLE |\n",
       "| gamma_pop   | 3e+00 | MLE |\n",
       "| delta_pop   | 1e+00 | MLE |\n",
       "| V0_pop      | 1e+04 | MLE |\n",
       "| omega_V0    | 1e+00 | MLE |\n",
       "| omega_beta  | 1e+00 | MLE |\n",
       "| omega_delta | 1e+00 | MLE |\n",
       "| omega_gamma | 1e+00 | MLE |\n",
       "| a           | 1e+00 | MLE |\n",
       "\n"
      ],
      "text/plain": [
       "  name        initialValue method\n",
       "1 beta_pop    1e-04        MLE   \n",
       "2 gamma_pop   3e+00        MLE   \n",
       "3 delta_pop   1e+00        MLE   \n",
       "4 V0_pop      1e+04        MLE   \n",
       "5 omega_V0    1e+00        MLE   \n",
       "6 omega_beta  1e+00        MLE   \n",
       "7 omega_delta 1e+00        MLE   \n",
       "8 omega_gamma 1e+00        MLE   \n",
       "9 a           1e+00        MLE   "
      ]
     },
     "metadata": {},
     "output_type": "display_data"
    }
   ],
   "source": [
    "getPopulationParameterInformation()"
   ]
  },
  {
   "cell_type": "markdown",
   "id": "5840497b-2e66-4aa5-938a-f155a0ee73f3",
   "metadata": {},
   "source": [
    "### Taskの設定"
   ]
  },
  {
   "cell_type": "code",
   "execution_count": 19,
   "id": "f8417e51-02da-484b-9330-67d525bd178a",
   "metadata": {},
   "outputs": [
    {
     "data": {
      "text/html": [
       "<dl>\n",
       "\t<dt>$tasks</dt>\n",
       "\t\t<dd><style>\n",
       ".dl-inline {width: auto; margin:0; padding: 0}\n",
       ".dl-inline>dt, .dl-inline>dd {float: none; width: auto; display: inline-block}\n",
       ".dl-inline>dt::after {content: \":\\0020\"; padding-right: .5ex}\n",
       ".dl-inline>dt:not(:first-of-type) {padding-left: .5ex}\n",
       "</style><dl class=dl-inline><dt>populationParameterEstimation</dt><dd>TRUE</dd><dt>conditionalDistributionSampling</dt><dd>TRUE</dd><dt>conditionalModeEstimation</dt><dd>TRUE</dd><dt>standardErrorEstimation</dt><dd>FALSE</dd><dt>logLikelihoodEstimation</dt><dd>FALSE</dd><dt>plots</dt><dd>TRUE</dd></dl>\n",
       "</dd>\n",
       "\t<dt>$linearization</dt>\n",
       "\t\t<dd>FALSE</dd>\n",
       "\t<dt>$plotList</dt>\n",
       "\t\t<dd><style>\n",
       ".list-inline {list-style: none; margin:0; padding: 0}\n",
       ".list-inline>li {display: inline-block}\n",
       ".list-inline>li:not(:last-child)::after {content: \"\\00b7\"; padding: 0 .5ex}\n",
       "</style>\n",
       "<ol class=list-inline><li>'indfits'</li><li>'parameterdistribution'</li><li>'covariancemodeldiagnosis'</li><li>'covariatemodeldiagnosis'</li><li>'obspred'</li><li>'vpc'</li><li>'residualsscatter'</li><li>'residualsdistribution'</li><li>'randomeffects'</li><li>'saemresults'</li></ol>\n",
       "</dd>\n",
       "</dl>\n"
      ],
      "text/latex": [
       "\\begin{description}\n",
       "\\item[\\$tasks] \\begin{description*}\n",
       "\\item[populationParameterEstimation] TRUE\n",
       "\\item[conditionalDistributionSampling] TRUE\n",
       "\\item[conditionalModeEstimation] TRUE\n",
       "\\item[standardErrorEstimation] FALSE\n",
       "\\item[logLikelihoodEstimation] FALSE\n",
       "\\item[plots] TRUE\n",
       "\\end{description*}\n",
       "\n",
       "\\item[\\$linearization] FALSE\n",
       "\\item[\\$plotList] \\begin{enumerate*}\n",
       "\\item 'indfits'\n",
       "\\item 'parameterdistribution'\n",
       "\\item 'covariancemodeldiagnosis'\n",
       "\\item 'covariatemodeldiagnosis'\n",
       "\\item 'obspred'\n",
       "\\item 'vpc'\n",
       "\\item 'residualsscatter'\n",
       "\\item 'residualsdistribution'\n",
       "\\item 'randomeffects'\n",
       "\\item 'saemresults'\n",
       "\\end{enumerate*}\n",
       "\n",
       "\\end{description}\n"
      ],
      "text/markdown": [
       "$tasks\n",
       ":   populationParameterEstimation\n",
       ":   TRUEconditionalDistributionSampling\n",
       ":   TRUEconditionalModeEstimation\n",
       ":   TRUEstandardErrorEstimation\n",
       ":   FALSElogLikelihoodEstimation\n",
       ":   FALSEplots\n",
       ":   TRUE\n",
       "\n",
       "\n",
       "$linearization\n",
       ":   FALSE\n",
       "$plotList\n",
       ":   1. 'indfits'\n",
       "2. 'parameterdistribution'\n",
       "3. 'covariancemodeldiagnosis'\n",
       "4. 'covariatemodeldiagnosis'\n",
       "5. 'obspred'\n",
       "6. 'vpc'\n",
       "7. 'residualsscatter'\n",
       "8. 'residualsdistribution'\n",
       "9. 'randomeffects'\n",
       "10. 'saemresults'\n",
       "\n",
       "\n",
       "\n",
       "\n",
       "\n"
      ],
      "text/plain": [
       "$tasks\n",
       "  populationParameterEstimation conditionalDistributionSampling \n",
       "                           TRUE                            TRUE \n",
       "      conditionalModeEstimation         standardErrorEstimation \n",
       "                           TRUE                           FALSE \n",
       "        logLikelihoodEstimation                           plots \n",
       "                          FALSE                            TRUE \n",
       "\n",
       "$linearization\n",
       "[1] FALSE\n",
       "\n",
       "$plotList\n",
       " [1] \"indfits\"                  \"parameterdistribution\"   \n",
       " [3] \"covariancemodeldiagnosis\" \"covariatemodeldiagnosis\" \n",
       " [5] \"obspred\"                  \"vpc\"                     \n",
       " [7] \"residualsscatter\"         \"residualsdistribution\"   \n",
       " [9] \"randomeffects\"            \"saemresults\"             \n"
      ]
     },
     "metadata": {},
     "output_type": "display_data"
    }
   ],
   "source": [
    "getScenario()"
   ]
  },
  {
   "cell_type": "code",
   "execution_count": 20,
   "id": "d8a1063b-562c-4a92-b5ef-9b00c60fb49d",
   "metadata": {},
   "outputs": [],
   "source": [
    "senario = getScenario()\n",
    "senario$tasks = c(populationParameterEstimation = TRUE, conditionalDistributionSampling = TRUE, conditionalModeEstimation = TRUE,\n",
    "                  standardErrorEstimation = TRUE, logLikelihoodEstimation = TRUE, plots = TRUE)\n",
    "setScenario(senario)"
   ]
  },
  {
   "cell_type": "code",
   "execution_count": 21,
   "id": "c7b506d1-40ca-400e-8997-45cc5b3b2998",
   "metadata": {},
   "outputs": [
    {
     "data": {
      "text/html": [
       "<dl>\n",
       "\t<dt>$tasks</dt>\n",
       "\t\t<dd><style>\n",
       ".dl-inline {width: auto; margin:0; padding: 0}\n",
       ".dl-inline>dt, .dl-inline>dd {float: none; width: auto; display: inline-block}\n",
       ".dl-inline>dt::after {content: \":\\0020\"; padding-right: .5ex}\n",
       ".dl-inline>dt:not(:first-of-type) {padding-left: .5ex}\n",
       "</style><dl class=dl-inline><dt>populationParameterEstimation</dt><dd>TRUE</dd><dt>conditionalDistributionSampling</dt><dd>TRUE</dd><dt>conditionalModeEstimation</dt><dd>TRUE</dd><dt>standardErrorEstimation</dt><dd>TRUE</dd><dt>logLikelihoodEstimation</dt><dd>TRUE</dd><dt>plots</dt><dd>TRUE</dd></dl>\n",
       "</dd>\n",
       "\t<dt>$linearization</dt>\n",
       "\t\t<dd>FALSE</dd>\n",
       "\t<dt>$plotList</dt>\n",
       "\t\t<dd><style>\n",
       ".list-inline {list-style: none; margin:0; padding: 0}\n",
       ".list-inline>li {display: inline-block}\n",
       ".list-inline>li:not(:last-child)::after {content: \"\\00b7\"; padding: 0 .5ex}\n",
       "</style>\n",
       "<ol class=list-inline><li>'indfits'</li><li>'parameterdistribution'</li><li>'covariancemodeldiagnosis'</li><li>'covariatemodeldiagnosis'</li><li>'obspred'</li><li>'vpc'</li><li>'residualsscatter'</li><li>'residualsdistribution'</li><li>'randomeffects'</li><li>'saemresults'</li></ol>\n",
       "</dd>\n",
       "</dl>\n"
      ],
      "text/latex": [
       "\\begin{description}\n",
       "\\item[\\$tasks] \\begin{description*}\n",
       "\\item[populationParameterEstimation] TRUE\n",
       "\\item[conditionalDistributionSampling] TRUE\n",
       "\\item[conditionalModeEstimation] TRUE\n",
       "\\item[standardErrorEstimation] TRUE\n",
       "\\item[logLikelihoodEstimation] TRUE\n",
       "\\item[plots] TRUE\n",
       "\\end{description*}\n",
       "\n",
       "\\item[\\$linearization] FALSE\n",
       "\\item[\\$plotList] \\begin{enumerate*}\n",
       "\\item 'indfits'\n",
       "\\item 'parameterdistribution'\n",
       "\\item 'covariancemodeldiagnosis'\n",
       "\\item 'covariatemodeldiagnosis'\n",
       "\\item 'obspred'\n",
       "\\item 'vpc'\n",
       "\\item 'residualsscatter'\n",
       "\\item 'residualsdistribution'\n",
       "\\item 'randomeffects'\n",
       "\\item 'saemresults'\n",
       "\\end{enumerate*}\n",
       "\n",
       "\\end{description}\n"
      ],
      "text/markdown": [
       "$tasks\n",
       ":   populationParameterEstimation\n",
       ":   TRUEconditionalDistributionSampling\n",
       ":   TRUEconditionalModeEstimation\n",
       ":   TRUEstandardErrorEstimation\n",
       ":   TRUElogLikelihoodEstimation\n",
       ":   TRUEplots\n",
       ":   TRUE\n",
       "\n",
       "\n",
       "$linearization\n",
       ":   FALSE\n",
       "$plotList\n",
       ":   1. 'indfits'\n",
       "2. 'parameterdistribution'\n",
       "3. 'covariancemodeldiagnosis'\n",
       "4. 'covariatemodeldiagnosis'\n",
       "5. 'obspred'\n",
       "6. 'vpc'\n",
       "7. 'residualsscatter'\n",
       "8. 'residualsdistribution'\n",
       "9. 'randomeffects'\n",
       "10. 'saemresults'\n",
       "\n",
       "\n",
       "\n",
       "\n",
       "\n"
      ],
      "text/plain": [
       "$tasks\n",
       "  populationParameterEstimation conditionalDistributionSampling \n",
       "                           TRUE                            TRUE \n",
       "      conditionalModeEstimation         standardErrorEstimation \n",
       "                           TRUE                            TRUE \n",
       "        logLikelihoodEstimation                           plots \n",
       "                           TRUE                            TRUE \n",
       "\n",
       "$linearization\n",
       "[1] FALSE\n",
       "\n",
       "$plotList\n",
       " [1] \"indfits\"                  \"parameterdistribution\"   \n",
       " [3] \"covariancemodeldiagnosis\" \"covariatemodeldiagnosis\" \n",
       " [5] \"obspred\"                  \"vpc\"                     \n",
       " [7] \"residualsscatter\"         \"residualsdistribution\"   \n",
       " [9] \"randomeffects\"            \"saemresults\"             \n"
      ]
     },
     "metadata": {},
     "output_type": "display_data"
    }
   ],
   "source": [
    "getScenario()"
   ]
  },
  {
   "cell_type": "markdown",
   "id": "f1fb7232-9ac4-48e6-ac5e-e90e584524b0",
   "metadata": {},
   "source": [
    "### RUN\n",
    "\n",
    "結果のフォルダが上書きされるので注意"
   ]
  },
  {
   "cell_type": "code",
   "execution_count": 22,
   "id": "88772f56-ea41-4648-9151-dd739336d096",
   "metadata": {},
   "outputs": [],
   "source": [
    "startTime <- Sys.time()\n",
    "runScenario()\n",
    "endTime <- Sys.time()\n",
    "\n",
    "sink(\"outputs/08_01/systime.txt\"); print(endTime - startTime,append=T)"
   ]
  },
  {
   "cell_type": "markdown",
   "id": "72abea96-edd3-4754-bf2d-b866acd85441",
   "metadata": {},
   "source": [
    "### プロット"
   ]
  },
  {
   "cell_type": "code",
   "execution_count": 23,
   "id": "419bc1bd-e678-4440-8f5f-df9da6e14bab",
   "metadata": {},
   "outputs": [],
   "source": [
    "library(ggplot2)"
   ]
  },
  {
   "cell_type": "code",
   "execution_count": 29,
   "id": "9fb7e3b1-3904-41f9-9f93-ac707e8ec36b",
   "metadata": {},
   "outputs": [],
   "source": [
    "pltTemp <- plotIndividualFits(obsName = \"y1\",\n",
    "                              setting = list(ylog = TRUE,\n",
    "                                             xlim = c(0, 20),\n",
    "                                             ylim = c(100, 1e+8)))\n",
    "    ggsave(pltTemp, filename = \"outputs/08_01/plot_indivfit.png\", h = 40, w = 12)"
   ]
  },
  {
   "cell_type": "markdown",
   "id": "0563f7a4-be55-48bd-9597-a7e0e83728aa",
   "metadata": {},
   "source": [
    "### プロジェクトの保存"
   ]
  },
  {
   "cell_type": "code",
   "execution_count": 31,
   "id": "8433a8eb-bc9f-4cdf-979b-670178e9690d",
   "metadata": {},
   "outputs": [],
   "source": [
    "saveProject() # update current model"
   ]
  },
  {
   "cell_type": "code",
   "execution_count": null,
   "id": "98ab530d-e88a-4457-9ada-28db543b32d6",
   "metadata": {},
   "outputs": [],
   "source": []
  }
 ],
 "metadata": {
  "kernelspec": {
   "display_name": "R",
   "language": "R",
   "name": "ir"
  },
  "language_info": {
   "codemirror_mode": "r",
   "file_extension": ".r",
   "mimetype": "text/x-r-source",
   "name": "R",
   "pygments_lexer": "r",
   "version": "4.3.2"
  }
 },
 "nbformat": 4,
 "nbformat_minor": 5
}
