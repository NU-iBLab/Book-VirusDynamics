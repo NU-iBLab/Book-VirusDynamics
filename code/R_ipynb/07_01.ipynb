{
 "cells": [
  {
   "cell_type": "markdown",
   "id": "4f80430b-9e7e-4a97-aeda-ee0a90901c34",
   "metadata": {},
   "source": [
    "# コード7-1：偏微分方程式の数値計算の実装\n",
    "\n",
    "『ウイルス感染の数理モデルとシミュレーション ーデータを定量的に理解するー』\n",
    "\n",
    "偏微分方程式の数値計算の実装の例をまとめる。"
   ]
  },
  {
   "cell_type": "markdown",
   "id": "5e1cc114-707b-477d-9856-80401bc07671",
   "metadata": {},
   "source": [
    "## ライブラリ、パッケージ（モジュール）の読み込み"
   ]
  },
  {
   "cell_type": "code",
   "execution_count": 1,
   "id": "7535dc84-f8df-429f-b89a-4b7dba664c8e",
   "metadata": {},
   "outputs": [],
   "source": [
    "## 必要があればインストール\n",
    "# install.packages(\"ggplot2\", \"patchwork\", \"deSolve)"
   ]
  },
  {
   "cell_type": "code",
   "execution_count": 2,
   "id": "c26f6440-9359-4310-8c71-16531b412f74",
   "metadata": {},
   "outputs": [],
   "source": [
    "rm(list = ls(all = TRUE))\n",
    "library(ggplot2)\n",
    "library(patchwork)\n",
    "library(deSolve)"
   ]
  },
  {
   "cell_type": "markdown",
   "id": "2d1d17c5-7d49-44eb-aa5d-b191207e319e",
   "metadata": {},
   "source": [
    "## 偏微分方程式の数値計算\n",
    "\n",
    "式(7.2)\n",
    "\n",
    "$$\n",
    "\\frac{d T(t)}{dt} =\n",
    "$$\n",
    "\n",
    "等価な式(7.5)を実験データに合わせて変形した式(7.6)\n",
    "\n",
    "$$\n",
    "\\frac{d T(t)}{dt} =\n",
    "$$\n",
    "\n",
    "$V(t) = V_I(t) + V_{NI}(t), V_\\theta(t) = \\alpha V_I(t), \\beta_\\theta = \\frac{\\beta}{\\alpha}, f_\\theta = \\alpha f$であるので\n",
    "\n",
    "式(7.2)を以下のように変形する。\n",
    "\n",
    "$$\n",
    "\\frac{d T(t)}{dt} = \n",
    "$$\n",
    "\n",
    "式(7.2)を変形した偏微分方程式と式(7.5)の常微分方程式をそれぞれ数値計算することで比較する。"
   ]
  },
  {
   "cell_type": "code",
   "execution_count": null,
   "id": "ab7060da-bf29-4d23-b1aa-4dfac7b498f5",
   "metadata": {},
   "outputs": [],
   "source": []
  }
 ],
 "metadata": {
  "kernelspec": {
   "display_name": "R",
   "language": "R",
   "name": "ir"
  },
  "language_info": {
   "codemirror_mode": "r",
   "file_extension": ".r",
   "mimetype": "text/x-r-source",
   "name": "R",
   "pygments_lexer": "r",
   "version": "4.3.1"
  }
 },
 "nbformat": 4,
 "nbformat_minor": 5
}
