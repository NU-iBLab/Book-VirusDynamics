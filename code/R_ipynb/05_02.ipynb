{
 "cells": [
  {
   "cell_type": "markdown",
   "id": "4f80430b-9e7e-4a97-aeda-ee0a90901c34",
   "metadata": {},
   "source": [
    "# コード5-2：拡散方程式の数値計算の実装\n",
    "\n",
    "『ウイルス感染の数理モデルとシミュレーション ーデータを定量的に理解するー』\n",
    "\n",
    "拡散方程式の数値計算の実装の例をまとめる。"
   ]
  },
  {
   "cell_type": "markdown",
   "id": "039aebf0-35c2-497a-a051-db52fdbb286f",
   "metadata": {},
   "source": [
    "## ライブラリ、パッケージ（モジュール）の読み込み"
   ]
  },
  {
   "cell_type": "code",
   "execution_count": 2,
   "id": "22ee4aba-2cef-4658-ba50-65fa4a2e6581",
   "metadata": {},
   "outputs": [],
   "source": [
    "## 必要があればインストール\n",
    "# install.packages(\"ggplot2\", \"patchwork\", \"deSolve)"
   ]
  },
  {
   "cell_type": "code",
   "execution_count": null,
   "id": "053bfe09-e480-4971-9d1a-ee150435756d",
   "metadata": {},
   "outputs": [],
   "source": [
    "rm(list = ls(all = TRUE))\n",
    "library(ggplot2)\n",
    "library(patchwork)\n",
    "library(deSolve)"
   ]
  },
  {
   "cell_type": "markdown",
   "id": "7b60f991-9cfe-49d9-a6d0-71ea416a8877",
   "metadata": {},
   "source": [
    "## 拡散方程式の数値計算\n",
    "\n",
    "\n",
    "数学コラム０４：ウイルス感染の時空間動態\n",
    "\n",
    "二次元平面$(x,y) \\in \\mathbb{R}^2$の領域$\\Omega \\in \\mathbb{R}^2$における、時刻$0<t<T$での個体数$u(t,x,y)$（数学コラム０４では$n(t,x,y)$であるが、法線ベクトル$n$特別するため$u$を用いた）に対する拡散方程式\n",
    "\n",
    "$$\n",
    "\\frac{\\partial u(t,x,y)}{\\partial t} = D\\left( \\frac{\\partial^2 u(t,x,y)}{{\\partial x}^2} + \\frac{\\partial^2 u(t,x,y)}{{\\partial y}^2} \\right) = D\\Delta u(t,x,y)\n",
    "$$\n",
    "\n",
    "について、数値計算を行う。\n",
    "\n",
    "Variational formulationは以下になる。\n",
    "\n",
    "$$\n",
    "\\int_{\\Omega}{\\left\\{ u^{m+1}v + \\tau D \\nabla u^{m+1} \\cdot \\nabla v \\right\\} } - \\int_{\\partial \\Omega}{\\tau D \\frac{\\partial u^{m+1}}{\\partial n}}v - \\int_{\\Omega}{ u^{m}v } = 0\n",
    "$$\n",
    "\n",
    "ここで、$u^m$は$u(m \\tau,x,y)$であり、$v$はテスト関数、$\\tau$は微小時間（時間方向の数値計算のタイムステップ）、$n$は境界$\\partial \\Omega$で定義された外向きの法線ベクトルを表す（時間方向の離散化やFreeFEMで用いられる弱形式の導出については、FreeFEMのドキュメンテーションページ https://doc.freefem.org/models/evolution-problems.html や他の解説などを参照）。また、\n",
    "\n",
    "$$\n",
    "\\frac{\\partial u^{m+1}}{\\partial n} = \\nabla u^{m+1} \\cdot n\n",
    "$$\n",
    "\n",
    "である。\n",
    "\n",
    "斉次Dirichlet境界条件\n",
    "\n",
    "$$\n",
    "u(t,x,y) = 0 \\quad \\text{on } \\partial \\Omega \\times ]0,T[\n",
    "$$\n",
    "\n",
    "と、Neumann境界条件のうちゼロフラックス境界条件（斉次Neumann境界条件）\n",
    "\n",
    "$$\n",
    "\\frac{\\partial u \\left( t, x, y \\right)}{\\partial n} = 0 \\quad \\text{on } \\partial \\Omega \\times ]0,T[\n",
    "$$\n",
    "\n",
    "を考える。\n",
    "\n",
    "FreeFEM++とPythonからFreeFEMの実行可能ファイル（.edp）の生成とその実行ができるpyfreefemパッケージを用いる。\n",
    "\n",
    "- FreeFEM - An open-source PDE Solver using the Finite Element Method https://freefem.org/\n",
    "- pyfreefem · PyPI https://pypi.org/project/pyfreefem/"
   ]
  },
  {
   "cell_type": "code",
   "execution_count": null,
   "id": "8eed20af-d986-47cb-ab1c-eef00a07433b",
   "metadata": {},
   "outputs": [],
   "source": []
  }
 ],
 "metadata": {
  "kernelspec": {
   "display_name": "R",
   "language": "R",
   "name": "ir"
  },
  "language_info": {
   "codemirror_mode": "r",
   "file_extension": ".r",
   "mimetype": "text/x-r-source",
   "name": "R",
   "pygments_lexer": "r",
   "version": "4.3.1"
  }
 },
 "nbformat": 4,
 "nbformat_minor": 5
}
