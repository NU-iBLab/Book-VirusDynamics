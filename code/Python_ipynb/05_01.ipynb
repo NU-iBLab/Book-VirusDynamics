{
 "cells": [
  {
   "cell_type": "markdown",
   "id": "d0549a59-2011-4b0e-8ac5-e0b92262553a",
   "metadata": {},
   "source": [
    "# コード5-1：MCMCを用いたベイズ推定の実装\n",
    "\n",
    "『ウイルス感染の数理モデルとシミュレーション ーデータを定量的に理解するー』\n",
    "\n",
    "MCMCを用いたベイズ推定の実装の例をまとめる。"
   ]
  },
  {
   "cell_type": "markdown",
   "id": "5bf1067b-9120-41a0-9f5f-3fce2132ae0d",
   "metadata": {},
   "source": [
    "## ライブラリ、パッケージ（モジュール）の読み込み"
   ]
  },
  {
   "cell_type": "code",
   "execution_count": 1,
   "id": "903a8703-7c39-4909-8fb8-1b1899ffea5d",
   "metadata": {
    "tags": []
   },
   "outputs": [],
   "source": [
    "## 必要があればインストール\n",
    "# !pip3 install matplotlib numpy gillespy2 time"
   ]
  },
  {
   "cell_type": "code",
   "execution_count": null,
   "id": "d7773d09-681a-4f2f-a3c7-d1cc113e69b4",
   "metadata": {},
   "outputs": [],
   "source": [
    "import matplotlib.pyplot as plt\n",
    "import numpy as np\n",
    "import gillespy2\n",
    "import time ## 実行時間測定"
   ]
  },
  {
   "cell_type": "markdown",
   "id": "d0b7b72d-c934-42f1-9346-6be0c4bb6cb7",
   "metadata": {},
   "source": [
    "## MCMCを用いたベイズ推定\n",
    "\n",
    "28 Ito, Y., et al., Dynamics of HIV-1 coinfection in different susceptible target cell populations during cell-free infection. J Theor Biol, 2018. 455: p. 39-46.\n",
    "\n",
    "式(3.3)\n",
    "\n",
    "\n",
    "pystanパッケージを用いて行う"
   ]
  },
  {
   "cell_type": "code",
   "execution_count": 2,
   "id": "f2d28ed0-2989-4a32-98ab-879cbb5ec630",
   "metadata": {
    "tags": []
   },
   "outputs": [],
   "source": [
    "## データセット\n",
    "## 論文からとるか擬似データを使うか"
   ]
  },
  {
   "cell_type": "code",
   "execution_count": null,
   "id": "91a6fad8-7cc0-4880-86e5-f73aea62f874",
   "metadata": {},
   "outputs": [],
   "source": [
    "## 推定"
   ]
  },
  {
   "cell_type": "markdown",
   "id": "9d3a82e4-47d9-440b-b7af-2fa81d112d64",
   "metadata": {
    "tags": []
   },
   "source": [
    "### 常微分方程式\n",
    "\n",
    "ウイルスダイナミクスのような常微分方程式系によるシミュレーションと併せたベイズ推定手法を紹介する。\n",
    "\n",
    "式（2.12）\n",
    "\n",
    "$$\n",
    "\\begin{align}\n",
    "\\frac{d T \\left( t \\right)}{dt} &= L(t) - \\beta T(t) V(t) \\\\\n",
    "\\frac{d I \\left( t \\right)}{dt} &= \\beta T(t) V(t) - \\delta I(t) \\\\\n",
    "\\frac{d V \\left( t \\right)}{dt} &= p I(t) - c V(t)\n",
    "\\end{align}\n",
    "$$\n",
    "\n",
    "について\n",
    "$L(t) = \\lambda - d T(t), \\lambda = 0, d = 0.057, \\beta = 8.61 \\times 10^{-11}, \\delta = 0.057 + 1.75, p = 3.26 \\times 10^4, c = 1.93 + 0.039, T(0) = 6.46 \\times 10^6, I(0) = 10^{-1}, V(0) = 5.0 \\times 10^4$"
   ]
  },
  {
   "cell_type": "code",
   "execution_count": 4,
   "id": "e92e82b8-1ac9-4bed-9292-a7c596d8737e",
   "metadata": {
    "tags": []
   },
   "outputs": [],
   "source": [
    "## 擬似データの生成"
   ]
  },
  {
   "cell_type": "code",
   "execution_count": 5,
   "id": "5bc1abde-34b0-43ef-a74e-73b1af6d6348",
   "metadata": {
    "tags": []
   },
   "outputs": [],
   "source": [
    "## 推定"
   ]
  },
  {
   "cell_type": "code",
   "execution_count": null,
   "id": "534a5a6f-f89b-42ca-9615-15cc3d6452d0",
   "metadata": {},
   "outputs": [],
   "source": []
  }
 ],
 "metadata": {
  "kernelspec": {
   "display_name": "Python 3 (ipykernel)",
   "language": "python",
   "name": "python3"
  },
  "language_info": {
   "codemirror_mode": {
    "name": "ipython",
    "version": 3
   },
   "file_extension": ".py",
   "mimetype": "text/x-python",
   "name": "python",
   "nbconvert_exporter": "python",
   "pygments_lexer": "ipython3",
   "version": "3.8.10"
  }
 },
 "nbformat": 4,
 "nbformat_minor": 5
}
