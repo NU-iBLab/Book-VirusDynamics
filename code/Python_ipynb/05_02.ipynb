{
 "cells": [
  {
   "cell_type": "markdown",
   "id": "96bb6395-be2b-4097-bba7-a33e63530a14",
   "metadata": {},
   "source": [
    "# コード5-2：拡散方程式の数値計算の実装\n",
    "\n",
    "『ウイルス感染の数理モデルとシミュレーション ーデータを定量的に理解するー』\n",
    "\n",
    "拡散方程式の数値計算の実装の例をまとめる。"
   ]
  },
  {
   "cell_type": "markdown",
   "id": "a1cfa27a-4197-4317-bcb2-56d4116c9885",
   "metadata": {},
   "source": [
    "## ライブラリ、パッケージ（モジュール）の読み込み"
   ]
  },
  {
   "cell_type": "code",
   "execution_count": 1,
   "id": "d9049af3-473b-4c2e-a896-8414f2e02a1d",
   "metadata": {
    "tags": []
   },
   "outputs": [],
   "source": [
    "## 必要があればインストール\n",
    "# !pip3 install matplotlib numpy gillespy2 time"
   ]
  },
  {
   "cell_type": "code",
   "execution_count": 2,
   "id": "093996ea-a6eb-4e42-bfc4-16bf20b40bc9",
   "metadata": {
    "tags": []
   },
   "outputs": [],
   "source": [
    "import matplotlib.pyplot as plt\n",
    "import numpy as np\n",
    "import gillespy2\n",
    "import time ## 実行時間測定"
   ]
  },
  {
   "cell_type": "markdown",
   "id": "10438e13-1ee5-4a8a-96d5-865fb82c7fe2",
   "metadata": {},
   "source": [
    "## 拡散方程式の数値計算\n",
    "\n",
    "\n",
    "数学コラム０４：ウイルス感染の時空間動態"
   ]
  },
  {
   "cell_type": "code",
   "execution_count": 3,
   "id": "bf884b60-c4a3-4928-949e-495fc9d92f85",
   "metadata": {
    "tags": []
   },
   "outputs": [],
   "source": [
    "### 平衡解"
   ]
  },
  {
   "cell_type": "code",
   "execution_count": null,
   "id": "def3a860-243d-4bf7-b91e-c2f0420fa154",
   "metadata": {},
   "outputs": [],
   "source": []
  },
  {
   "cell_type": "code",
   "execution_count": 4,
   "id": "a6eb0aef-3f15-4877-9464-3367e9b59082",
   "metadata": {
    "tags": []
   },
   "outputs": [],
   "source": [
    "### 進行波"
   ]
  },
  {
   "cell_type": "code",
   "execution_count": null,
   "id": "9d1237da-f717-4d0f-9e8b-4544a169dbef",
   "metadata": {},
   "outputs": [],
   "source": []
  }
 ],
 "metadata": {
  "kernelspec": {
   "display_name": "Python 3 (ipykernel)",
   "language": "python",
   "name": "python3"
  },
  "language_info": {
   "codemirror_mode": {
    "name": "ipython",
    "version": 3
   },
   "file_extension": ".py",
   "mimetype": "text/x-python",
   "name": "python",
   "nbconvert_exporter": "python",
   "pygments_lexer": "ipython3",
   "version": "3.8.10"
  }
 },
 "nbformat": 4,
 "nbformat_minor": 5
}
