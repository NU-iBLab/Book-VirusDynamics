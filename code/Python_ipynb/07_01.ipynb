{
 "cells": [
  {
   "cell_type": "markdown",
   "id": "c9466a3c-d3b5-4c07-ae2c-f09b9adf9e4b",
   "metadata": {},
   "source": [
    "# コード7-1：偏微分方程式の数値計算の実装\n",
    "\n",
    "『ウイルス感染の数理モデルとシミュレーション ーデータを定量的に理解するー』\n",
    "\n",
    "偏微分方程式の数値計算の実装の例をまとめる。"
   ]
  },
  {
   "cell_type": "markdown",
   "id": "6ccc9fcd-1d99-4ece-83b1-9dec571f52cb",
   "metadata": {
    "tags": []
   },
   "source": [
    "## ライブラリ、パッケージ（モジュール）の読み込み"
   ]
  },
  {
   "cell_type": "code",
   "execution_count": 2,
   "id": "12cefae0-5a8b-4e62-aa8c-6adff8eddcca",
   "metadata": {
    "tags": []
   },
   "outputs": [],
   "source": [
    "## 必要があればインストール\n",
    "# !pip3 install matplotlib numpy gillespy2 time"
   ]
  },
  {
   "cell_type": "code",
   "execution_count": null,
   "id": "a7eee338-7484-49ba-9029-f30d4862f43a",
   "metadata": {},
   "outputs": [],
   "source": [
    "import matplotlib.pyplot as plt\n",
    "import numpy as np\n",
    "import gillespy2\n",
    "import time ## 実行時間測定"
   ]
  },
  {
   "cell_type": "markdown",
   "id": "017f23dc-d922-4c39-8c0e-f73b6fa5dfc9",
   "metadata": {},
   "source": [
    "## 偏微分方程式の数値計算\n",
    "\n",
    "式(7.2)\n",
    "\n",
    "$$\n",
    "\\frac{d T(t)}{dt} =\n",
    "$$\n",
    "\n",
    "等価な式(7.5)を実験データに合わせて変形した式(7.6)\n",
    "\n",
    "$$\n",
    "\\frac{d T(t)}{dt} =\n",
    "$$\n",
    "\n",
    "$V(t) = V_I(t) + V_{NI}(t), V_\\theta(t) = \\alpha V_I(t), \\beta_\\theta = \\frac{\\beta}{\\alpha}, f_\\theta = \\alpha f$であるので\n",
    "\n",
    "式(7.2)を以下のように変形する。\n",
    "\n",
    "$$\n",
    "\\frac{d T(t)}{dt} = \n",
    "$$\n",
    "\n",
    "式(7.2)を変形した偏微分方程式と式(7.5)の常微分方程式をそれぞれ数値計算することで比較する。"
   ]
  },
  {
   "cell_type": "markdown",
   "id": "55bd94fa-808b-48ca-9dcf-e872126c2ccc",
   "metadata": {},
   "source": [
    "https://www.frontiersin.org/articles/10.3389/fmicb.2018.00601/full\n",
    "\n",
    "The model equations were discretized in space, i.e., age, and integrated in time using the method of lines (MOL) approach (Sadiku and Obiozor, 2000; Shakeri and Dehghan, 2008) where the partial derivatives in age were approximated by finite-differences and the solution at the grid points was integrated along lines in time. We integrated the equations using the Matlab® ordinary differential equation Runge-Kutta solver ode45."
   ]
  },
  {
   "cell_type": "code",
   "execution_count": 3,
   "id": "dd62dc19-1ed8-4249-9380-ab6fe2cf0b31",
   "metadata": {
    "tags": []
   },
   "outputs": [],
   "source": [
    "## 偏微分方程式の計算"
   ]
  },
  {
   "cell_type": "code",
   "execution_count": null,
   "id": "401c334f-4466-477f-bc7d-ad9a34c36fe3",
   "metadata": {},
   "outputs": [],
   "source": []
  },
  {
   "cell_type": "code",
   "execution_count": 4,
   "id": "6387cc39-3844-4e3a-beac-7f1e1503c71e",
   "metadata": {
    "tags": []
   },
   "outputs": [],
   "source": [
    "## 常微分方程式の計算"
   ]
  },
  {
   "cell_type": "code",
   "execution_count": null,
   "id": "c8fe3304-6909-4b3a-9a4e-48475cc16e99",
   "metadata": {},
   "outputs": [],
   "source": []
  }
 ],
 "metadata": {
  "kernelspec": {
   "display_name": "Python 3 (ipykernel)",
   "language": "python",
   "name": "python3"
  },
  "language_info": {
   "codemirror_mode": {
    "name": "ipython",
    "version": 3
   },
   "file_extension": ".py",
   "mimetype": "text/x-python",
   "name": "python",
   "nbconvert_exporter": "python",
   "pygments_lexer": "ipython3",
   "version": "3.8.10"
  }
 },
 "nbformat": 4,
 "nbformat_minor": 5
}
