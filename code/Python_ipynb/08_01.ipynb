{
 "cells": [
  {
   "cell_type": "markdown",
   "id": "19176faf-3499-4655-bdf6-39d366148ba2",
   "metadata": {},
   "source": [
    "# コード8-1：NLMEMを用いたパラメータ推定の実装\n",
    "\n",
    "『ウイルス感染の数理モデルとシミュレーション ーデータを定量的に理解するー』\n",
    "\n",
    "NLMEMを用いたパラメータ推定の実装の例をまとめる。"
   ]
  },
  {
   "cell_type": "markdown",
   "id": "8e5d95e1-63ae-4ef2-a4a6-6e1994a3dd0f",
   "metadata": {},
   "source": [
    "## ライブラリ、パッケージ（モジュール）の読み込み"
   ]
  },
  {
   "cell_type": "code",
   "execution_count": null,
   "id": "e856af00-3f99-4686-827a-b272ad5f706b",
   "metadata": {},
   "outputs": [],
   "source": []
  }
 ],
 "metadata": {
  "kernelspec": {
   "display_name": "Python 3 (ipykernel)",
   "language": "python",
   "name": "python3"
  },
  "language_info": {
   "codemirror_mode": {
    "name": "ipython",
    "version": 3
   },
   "file_extension": ".py",
   "mimetype": "text/x-python",
   "name": "python",
   "nbconvert_exporter": "python",
   "pygments_lexer": "ipython3",
   "version": "3.8.10"
  }
 },
 "nbformat": 4,
 "nbformat_minor": 5
}
