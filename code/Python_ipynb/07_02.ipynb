{
 "cells": [
  {
   "cell_type": "markdown",
   "id": "71a36664-ee20-40af-8e3a-997030834bf3",
   "metadata": {},
   "source": [
    "# コード7-2：個体ベースシミュレーションの数値計算の実装\n",
    "\n",
    "『ウイルス感染の数理モデルとシミュレーション ーデータを定量的に理解するー』\n",
    "\n",
    "個体ベースシミュレーションの数値計算の実装の例をまとめる。"
   ]
  },
  {
   "cell_type": "markdown",
   "id": "f6d01d9d-37bb-4b0e-a84d-703a485ac6e4",
   "metadata": {},
   "source": [
    "## ライブラリ、パッケージ（モジュール）の読み込み"
   ]
  },
  {
   "cell_type": "code",
   "execution_count": null,
   "id": "0bc23ff0-af87-4946-85e4-d6feaed4819b",
   "metadata": {},
   "outputs": [],
   "source": []
  }
 ],
 "metadata": {
  "kernelspec": {
   "display_name": "Python 3 (ipykernel)",
   "language": "python",
   "name": "python3"
  },
  "language_info": {
   "codemirror_mode": {
    "name": "ipython",
    "version": 3
   },
   "file_extension": ".py",
   "mimetype": "text/x-python",
   "name": "python",
   "nbconvert_exporter": "python",
   "pygments_lexer": "ipython3",
   "version": "3.8.10"
  }
 },
 "nbformat": 4,
 "nbformat_minor": 5
}
